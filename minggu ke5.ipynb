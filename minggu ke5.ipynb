{
 "cells": [
  {
   "cell_type": "markdown",
   "metadata": {},
   "source": [
    "#function adalah blok kode yg dpt digunakan kembali, membuat kode lebih mudah dimengerti dan ringkas\n",
    "\n",
    "def nama_fungsi(argumen1, argumen2,...)\n",
    "    #blok kode yg menjalankan tugas\n",
    "    return hasil"
   ]
  },
  {
   "cell_type": "code",
   "execution_count": 1,
   "metadata": {},
   "outputs": [
    {
     "name": "stdout",
     "output_type": "stream",
     "text": [
      "10\n"
     ]
    }
   ],
   "source": [
    "def tambah (angka1, angka2):\n",
    "    hasil = angka1 + angka2\n",
    "    return hasil \n",
    "print(tambah(7,3))"
   ]
  },
  {
   "cell_type": "code",
   "execution_count": 60,
   "metadata": {},
   "outputs": [
    {
     "name": "stdout",
     "output_type": "stream",
     "text": [
      "senin hari ini upacara\n"
     ]
    }
   ],
   "source": [
    "a = (input(\"masukkan hari\"))\n",
    "def kondisi (hari):\n",
    "    if a == \"senin\":\n",
    "        print(f\"{a} hari ini upacara\")\n",
    "    else:\n",
    "        print(f\"{a} hari ini tidak upacara\")\n",
    "    return hari\n",
    "\n",
    "keterangan = kondisi(a)\n"
   ]
  },
  {
   "cell_type": "code",
   "execution_count": null,
   "metadata": {},
   "outputs": [],
   "source": [
    "a=input(\"masukkan hari yang ingin di cek\")\n",
    "def hari_kegiatan(hari):\n",
    "    if a==\"senin\":\n",
    "        print(f\"{a} maka upacara\" )\n",
    "    else:\n",
    "        print(f\"{a} tidak ada upacara\")\n",
    "    return hari\n",
    "\n",
    "b=hari_kegiatan(a)"
   ]
  },
  {
   "cell_type": "code",
   "execution_count": 40,
   "metadata": {},
   "outputs": [
    {
     "name": "stdout",
     "output_type": "stream",
     "text": [
      "('halo,', 'Alice', '!')\n"
     ]
    }
   ],
   "source": [
    "def sapa(nama):\n",
    "    pesan = \"halo,\" +nama+ \"!\"\n",
    "    return pesan\n",
    "\n",
    "nama_pengguna = \"Alice\"\n",
    "hasil_sapaan = sapa(nama_pengguna)\n",
    "print(hasil_sapaan)"
   ]
  },
  {
   "cell_type": "code",
   "execution_count": 41,
   "metadata": {},
   "outputs": [
    {
     "name": "stdout",
     "output_type": "stream",
     "text": [
      "17\n"
     ]
    }
   ],
   "source": [
    "def jumlahkan(*args):\n",
    "    total = 0\n",
    "    for angka in args:\n",
    "        total += angka\n",
    "    return total\n",
    "\n",
    "hasil = jumlahkan(2,3,5,7)\n",
    "print(hasil)"
   ]
  },
  {
   "cell_type": "code",
   "execution_count": 44,
   "metadata": {},
   "outputs": [
    {
     "name": "stdout",
     "output_type": "stream",
     "text": [
      "5.0\n"
     ]
    }
   ],
   "source": [
    "#dibilang parameter wajib, karena di def terdapat 2 argumen dan di hasil jg terdapat 2 argumen\n",
    "\n",
    "def bagi(pembilang, penyebut):\n",
    "    hasil = pembilang / penyebut\n",
    "    return hasil\n",
    "\n",
    "print(bagi(10,2))"
   ]
  },
  {
   "cell_type": "code",
   "execution_count": 45,
   "metadata": {},
   "outputs": [
    {
     "name": "stdout",
     "output_type": "stream",
     "text": [
      "halo tamu!\n"
     ]
    }
   ],
   "source": [
    "def sapa(nama=\"tamu\"):\n",
    "    print(\"halo\", nama + \"!\")\n",
    "\n",
    "sapa()"
   ]
  },
  {
   "cell_type": "code",
   "execution_count": 49,
   "metadata": {},
   "outputs": [
    {
     "name": "stdout",
     "output_type": "stream",
     "text": [
      "halo,john!\n"
     ]
    }
   ],
   "source": [
    "def ucapkan(salutasi, nama): #menerima 2 parameter\n",
    "    print (salutasi + \",\" + nama + \"!\")\n",
    "\n",
    "ucapkan(salutasi=\"halo\", nama=\"john\")\n"
   ]
  },
  {
   "cell_type": "code",
   "execution_count": 54,
   "metadata": {},
   "outputs": [
    {
     "name": "stdout",
     "output_type": "stream",
     "text": [
      "kuadrat dari 5 adalah 25\n",
      "kuadrat dari 7 adalah 49\n"
     ]
    }
   ],
   "source": [
    "#fungsi yg mengembalikan nilai: (return)\n",
    "#return akan mengeluarkan dan menyelesain program, jadi disimpan diakhir program \n",
    "\n",
    "def kuadrat(angka):\n",
    "    hasil = angka **2\n",
    "    return hasil\n",
    "print(\"kuadrat dari 5 adalah\", kuadrat(5))\n",
    "hasil_kuadrat = kuadrat(7) #memanggil kembali fungsi kuadrat yang berisi angka 7, maka di isi function haasil = 7 **2, maka hasil nya adalah 49\n",
    "print(\"kuadrat dari 7 adalah\", hasil_kuadrat)\n"
   ]
  },
  {
   "cell_type": "code",
   "execution_count": 53,
   "metadata": {},
   "outputs": [
    {
     "name": "stdout",
     "output_type": "stream",
     "text": [
      "kuadrat dari 5 adalah None\n",
      "kuadrat dari 7 adalah None\n"
     ]
    }
   ],
   "source": [
    "#fungsi yg mengembalikan nilai: (return)\n",
    "#return akan mengeluarkan dan menyelesain program, jadi disimpan diakhir program \n",
    "\n",
    "def kuadrat(angka):\n",
    "    hasil = angka **2\n",
    "\n",
    "print(\"kuadrat dari 5 adalah\", kuadrat(5))\n",
    "hasil_kuadrat = kuadrat(7)\n",
    "print(\"kuadrat dari 7 adalah\", hasil_kuadrat)\n",
    "#jika return dihilangkan maka hasil dari kuadrat adalah none"
   ]
  },
  {
   "cell_type": "code",
   "execution_count": null,
   "metadata": {},
   "outputs": [],
   "source": []
  },
  {
   "cell_type": "code",
   "execution_count": 57,
   "metadata": {},
   "outputs": [
    {
     "name": "stdout",
     "output_type": "stream",
     "text": [
      "jenis hewan pertama adalah \n",
      "jenis hewan kedua adalah harimau\n",
      "jenis hewan ketiga adalah harimau\n",
      "jenis hewan adalah gajah\n"
     ]
    }
   ],
   "source": [
    "def hewan():\n",
    "    def hewan1():\n",
    "        jenis = \"angsa\"\n",
    "    def hewan2():\n",
    "        nonlocal jenis\n",
    "        jenis = \"harimau\"\n",
    "    def hewan3():\n",
    "        global jenis\n",
    "        jenis = \"gajah\"\n",
    "\n",
    "    jenis = \"ayam\" #variabel lokal yang di deklare di dalam badan fungsi\n",
    "    hewan1()\n",
    "    print(f\"jenis hewan pertama adalah {jenis}\")\n",
    "    hewan2()\n",
    "    print(f\"jenis hewan kedua adalah {jenis}\")   \n",
    "    hewan3()\n",
    "    print(f\"jenis hewan ketiga adalah {jenis}\")\n",
    "\n",
    "hewan()\n",
    "print(f\"jenis hewan adalah {jenis}\")\n",
    "#variabel global bisa mengakses variabel yang diluar functionnya"
   ]
  },
  {
   "cell_type": "code",
   "execution_count": null,
   "metadata": {},
   "outputs": [],
   "source": [
    "import numpy as nama_pengguna\n",
    "\n",
    "#membuat "
   ]
  },
  {
   "cell_type": "code",
   "execution_count": null,
   "metadata": {},
   "outputs": [],
   "source": []
  }
 ],
 "metadata": {
  "kernelspec": {
   "display_name": "Python 3",
   "language": "python",
   "name": "python3"
  },
  "language_info": {
   "codemirror_mode": {
    "name": "ipython",
    "version": 3
   },
   "file_extension": ".py",
   "mimetype": "text/x-python",
   "name": "python",
   "nbconvert_exporter": "python",
   "pygments_lexer": "ipython3",
   "version": "3.10.11"
  }
 },
 "nbformat": 4,
 "nbformat_minor": 2
}
