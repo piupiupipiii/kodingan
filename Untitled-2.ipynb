{
 "cells": [
  {
   "cell_type": "code",
   "execution_count": 1,
   "metadata": {},
   "outputs": [
    {
     "name": "stdout",
     "output_type": "stream",
     "text": [
      "data diubah menjadi ipi\n",
      "data : pipi\n"
     ]
    }
   ],
   "source": [
    "data = \"pipi\"\n",
    "def rubahdata(databaru):\n",
    "    data = databaru\n",
    "    print (\"data diubah menjadi\", data)\n",
    "\n",
    "rubahdata('ipi')\n",
    "print('data :', data)\n",
    "    "
   ]
  },
  {
   "cell_type": "code",
   "execution_count": 2,
   "metadata": {},
   "outputs": [
    {
     "name": "stdout",
     "output_type": "stream",
     "text": [
      "data diubah menjadi ipi\n",
      "data : ipi\n"
     ]
    }
   ],
   "source": [
    "data = \"pipi\"\n",
    "def rubahdata(databaru):\n",
    "    global data\n",
    "    data = databaru\n",
    "    print (\"data diubah menjadi\", data)\n",
    "\n",
    "rubahdata('ipi')\n",
    "print('data :', data)\n",
    "    "
   ]
  },
  {
   "cell_type": "code",
   "execution_count": 10,
   "metadata": {},
   "outputs": [
    {
     "name": "stdout",
     "output_type": "stream",
     "text": [
      "kebutuhan kalori 2746.8\n"
     ]
    }
   ],
   "source": [
    "BB = float(input(\"masukan berat badan dalam satuan kg : \"))\n",
    "TB = float(input(\"masukkan tinggi badan dalam satuan cm : \"))\n",
    "U = int(input(\"masukkan usia : \"))\n",
    "gender = input(\"masukkan gender (laki-laki atau perempuan): \")\n",
    "\n",
    "def kalkulator_bmr(BB, TB, U, gender):\n",
    "    if gender == \"laki-laki\":\n",
    "        bmr = 66 + (13.7 * BB) + (5 * TB) - (6.78 * U)\n",
    "    else:\n",
    "        bmr = 655 + (9.6 * BB) + (1.8 * TB) - (4.7 * U)\n",
    "    return bmr\n",
    "\n",
    "\n",
    "bmr = kalkulator_bmr(TB, BB, U, gender)\n",
    "\n",
    "print(\"kebutuhan kalori\", bmr)"
   ]
  },
  {
   "cell_type": "code",
   "execution_count": 11,
   "metadata": {},
   "outputs": [
    {
     "name": "stdout",
     "output_type": "stream",
     "text": [
      "Kalori : \n",
      "1753.7999999999997\n"
     ]
    }
   ],
   "source": [
    "tb = float(input(\"Masukkan tinggi badan: \"))\n",
    "bb = float(input(\"Masukkan berat badan: \"))\n",
    "jenis = input(\"Jenis kelamin (L/P): \")\n",
    "umur = float(input(\"Masukkan umur: \"))\n",
    "kalori = lambda tb,bb,jenis,umur : (66+(13.7*bb)+(5*tb)-(6.78*umur) if jenis == \"L\" else (655 + (9.6 * bb) + (1.8 * tb) - (4.7 * umur)))\n",
    "print(\"Kalori : \")\n",
    "print(kalori(tb,bb,jenis,umur))"
   ]
  },
  {
   "cell_type": "code",
   "execution_count": null,
   "metadata": {},
   "outputs": [],
   "source": [
    "jumlah_pelanggan : int(input(\"masukkan jumlah pelanggan yang akan dimasukkan : \"))\n",
    "kode_pelanggan : int(input(\"masukkan kode pelanggan\"))\n",
    "nama : input(\"masukkan nama pelanggan\")\n",
    "alamat : input(\"masukkan alamat :\")\n",
    "jumlah_supplier : int(input(\"masukkan jumlah supplier yang akan dimasukkan \"))"
   ]
  },
  {
   "cell_type": "code",
   "execution_count": 14,
   "metadata": {},
   "outputs": [
    {
     "name": "stdout",
     "output_type": "stream",
     "text": [
      "Customer Customer 1 (Code: C001) has made a transaction of $650\n",
      "Customer Customer 2 (Code: C002) has made a transaction of $500\n",
      "Customer 1 has bought the most number of products.\n",
      "Customer 1 has the largest transaction.\n"
     ]
    }
   ],
   "source": [
    "# Variabel global untuk menyimpan data supplier dan barang\n",
    "suppliers = []\n",
    "products = []\n",
    "\n",
    "# Fungsi untuk menambahkan supplier\n",
    "def add_supplier(scode, snama, status, kota):\n",
    "    supplier = {\n",
    "        'scode': scode,\n",
    "        'snama': snama,\n",
    "        'status': status,\n",
    "        'kota': kota\n",
    "    }\n",
    "    suppliers.append(supplier)\n",
    "\n",
    "# Fungsi untuk menambahkan barang\n",
    "def add_product(kode, nama, harga, jumlah):\n",
    "    product = {\n",
    "        'kode': kode,\n",
    "        'nama': nama,\n",
    "        'harga': harga,\n",
    "        'jumlah': jumlah\n",
    "    }\n",
    "    products.append(product)\n",
    "\n",
    "# Fungsi untuk menambahkan pelanggan dan transaksi\n",
    "def add_customer(cust_code, cust_name, address, purchased_products):\n",
    "    total_transaction = 0\n",
    "    for product_code, quantity in purchased_products.items():\n",
    "        for product in products:\n",
    "            if product['kode'] == product_code:\n",
    "                total_transaction += product['harga'] * quantity\n",
    "    \n",
    "    print(f\"Customer {cust_name} (Code: {cust_code}) has made a transaction of ${total_transaction}\")\n",
    "    return total_transaction\n",
    "\n",
    "# Contoh data supplier\n",
    "add_supplier('S001', 'Supplier 1', 'Active', 'City A')\n",
    "add_supplier('S002', 'Supplier 2', 'Inactive', 'City B')\n",
    "\n",
    "# Contoh data barang\n",
    "add_product('P001', 'Product 1', 100, 10)\n",
    "add_product('P002', 'Product 2', 150, 5)\n",
    "\n",
    "# Contoh data pelanggan dan transaksi\n",
    "customer_1_products = {'P001': 2, 'P002': 3}\n",
    "customer_2_products = {'P001': 5}\n",
    "\n",
    "total_transaction_1 = add_customer('C001', 'Customer 1', 'Address 1', customer_1_products)\n",
    "total_transaction_2 = add_customer('C002', 'Customer 2', 'Address 2', customer_2_products)\n",
    "\n",
    "# Menentukan pelanggan dengan jumlah barang terbanyak\n",
    "if len(customer_1_products) > len(customer_2_products):\n",
    "    print(\"Customer 1 has bought the most number of products.\")\n",
    "else:\n",
    "    print(\"Customer 2 has bought the most number of products.\")\n",
    "\n",
    "# Menentukan pelanggan dengan transaksi terbesar\n",
    "if total_transaction_1 > total_transaction_2:\n",
    "    print(\"Customer 1 has the largest transaction.\")\n",
    "else:\n",
    "    print(\"Customer 2 has the largest transaction.\")"
   ]
  },
  {
   "cell_type": "code",
   "execution_count": 16,
   "metadata": {},
   "outputs": [
    {
     "name": "stdout",
     "output_type": "stream",
     "text": [
      "\n",
      "Data Supplier:\n",
      "Kode: 123, Nama: ipi, Status: ada, Kota: garut\n",
      "Kode: 120, Nama: p, Status: i, Kota: \n",
      "\n",
      "Data Barang:\n",
      "Kode: 12, Nama: ad, Harga: 20000.0, Jumlah: 18\n",
      "\n",
      "Data Pelanggan:\n",
      "Kode: 120, Nama: pw, Alamat: kao\n",
      "Barang yang dibeli:\n"
     ]
    },
    {
     "ename": "TypeError",
     "evalue": "string indices must be integers",
     "output_type": "error",
     "traceback": [
      "\u001b[1;31m---------------------------------------------------------------------------\u001b[0m",
      "\u001b[1;31mTypeError\u001b[0m                                 Traceback (most recent call last)",
      "\u001b[1;32mUntitled-2.ipynb Cell 7\u001b[0m line \u001b[0;36m6\n\u001b[0;32m     <a href='vscode-notebook-cell:Untitled-2.ipynb?jupyter-notebook#W6sdW50aXRsZWQ%3D?line=60'>61</a>\u001b[0m         \u001b[39mprint\u001b[39m(\u001b[39mf\u001b[39m\u001b[39m\"\u001b[39m\u001b[39m  - \u001b[39m\u001b[39m{\u001b[39;00mproducts[product_code][\u001b[39m'\u001b[39m\u001b[39mnama\u001b[39m\u001b[39m'\u001b[39m]\u001b[39m}\u001b[39;00m\u001b[39m: \u001b[39m\u001b[39m{\u001b[39;00mquantity\u001b[39m}\u001b[39;00m\u001b[39m buah\u001b[39m\u001b[39m\"\u001b[39m)\n\u001b[0;32m     <a href='vscode-notebook-cell:Untitled-2.ipynb?jupyter-notebook#W6sdW50aXRsZWQ%3D?line=62'>63</a>\u001b[0m \u001b[39mfor\u001b[39;00m item \u001b[39min\u001b[39;00m products:\n\u001b[1;32m---> <a href='vscode-notebook-cell:Untitled-2.ipynb?jupyter-notebook#W6sdW50aXRsZWQ%3D?line=63'>64</a>\u001b[0m     \u001b[39mif\u001b[39;00m  item [\u001b[39m\"\u001b[39;49m\u001b[39mjumlah\u001b[39;49m\u001b[39m\"\u001b[39;49m] \u001b[39m>\u001b[39m\u001b[39m=\u001b[39m \u001b[39m10\u001b[39m:\n\u001b[0;32m     <a href='vscode-notebook-cell:Untitled-2.ipynb?jupyter-notebook#W6sdW50aXRsZWQ%3D?line=64'>65</a>\u001b[0m         \u001b[39mprint\u001b[39m(\u001b[39mf\u001b[39m\u001b[39m\"\u001b[39m\u001b[39m \u001b[39m\u001b[39m{\u001b[39;00mitem[\u001b[39m'\u001b[39m\u001b[39mkode\u001b[39m\u001b[39m'\u001b[39m]\u001b[39m}\u001b[39;00m\u001b[39m : gaji memenuhi dari rata-rata\u001b[39m\u001b[39m\"\u001b[39m)\n\u001b[0;32m     <a href='vscode-notebook-cell:Untitled-2.ipynb?jupyter-notebook#W6sdW50aXRsZWQ%3D?line=65'>66</a>\u001b[0m     \u001b[39melse\u001b[39;00m :\n",
      "\u001b[1;31mTypeError\u001b[0m: string indices must be integers"
     ]
    }
   ],
   "source": [
    "# Dictionary untuk menyimpan data supplier, barang, dan pelanggan\n",
    "suppliers = {}\n",
    "products = {}\n",
    "customers = {}\n",
    "\n",
    "# Fungsi untuk menambahkan supplier\n",
    "def add_supplier():\n",
    "    scode = input(\"Masukkan kode supplier: \")\n",
    "    snama = input(\"Masukkan nama supplier: \")\n",
    "    status = input(\"Masukkan status supplier: \")\n",
    "    kota = input(\"Masukkan kota supplier: \")\n",
    "    suppliers[scode] = {'snama': snama, 'status': status, 'kota': kota}\n",
    "\n",
    "# Fungsi untuk menambahkan barang\n",
    "def add_product():\n",
    "    kode = input(\"Masukkan kode barang: \")\n",
    "    nama = input(\"Masukkan nama barang: \")\n",
    "    harga = float(input(\"Masukkan harga barang: \"))\n",
    "    jumlah = int(input(\"Masukkan jumlah barang: \"))\n",
    "    products[kode] = {'nama': nama, 'harga': harga, 'jumlah': jumlah}\n",
    "\n",
    "# Fungsi untuk menambahkan pelanggan dan transaksi\n",
    "def add_customer():\n",
    "    cust_code = input(\"Masukkan kode pelanggan: \")\n",
    "    cust_name = input(\"Masukkan nama pelanggan: \")\n",
    "    address = input(\"Masukkan alamat pelanggan: \")\n",
    "    purchased_products = {}\n",
    "    while True:\n",
    "        product_code = input(\"Masukkan kode barang yang akan dibeli (atau ketik 'selesai' untuk selesai): \")\n",
    "        if product_code.lower() == 'selesai':\n",
    "            break\n",
    "        if product_code in products:\n",
    "            quantity = int(input(f\"Masukkan jumlah {products[product_code]['nama']} yang akan dibeli: \"))\n",
    "            purchased_products[product_code] = quantity\n",
    "        else:\n",
    "            print(\"Kode barang tidak valid.\")\n",
    "    customers[cust_code] = {'nama': cust_name, 'alamat': address, 'barang': purchased_products}\n",
    "\n",
    "# Memasukkan data supplier, barang, dan pelanggan\n",
    "add_supplier()\n",
    "add_supplier()\n",
    "add_product()\n",
    "add_customer()\n",
    "\n",
    "# Menampilkan data supplier\n",
    "print(\"\\nData Supplier:\")\n",
    "for scode, data in suppliers.items():\n",
    "    print(f\"Kode: {scode}, Nama: {data['snama']}, Status: {data['status']}, Kota: {data['kota']}\")\n",
    "\n",
    "# Menampilkan data barang\n",
    "print(\"\\nData Barang:\")\n",
    "for kode, data in products.items():\n",
    "    print(f\"Kode: {kode}, Nama: {data['nama']}, Harga: {data['harga']}, Jumlah: {data['jumlah']}\")\n",
    "\n",
    "# Menampilkan data pelanggan\n",
    "print(\"\\nData Pelanggan:\")\n",
    "for cust_code, data in customers.items():\n",
    "    print(f\"Kode: {cust_code}, Nama: {data['nama']}, Alamat: {data['alamat']}\")\n",
    "    print(\"Barang yang dibeli:\")\n",
    "    for product_code, quantity in data['barang'].items():\n",
    "        print(f\"  - {products[product_code]['nama']}: {quantity} buah\")\n",
    "\n",
    "for item in products:\n",
    "    \n",
    "    if  item [\"jumlah\"] >= 10:\n",
    "        print(f\" {item['kode']} : gaji memenuhi dari rata-rata\")\n",
    "    else :\n",
    "        print(f\" {item['nama']} : gaji kurang dari rata-rata\")\n",
    "       "
   ]
  }
 ],
 "metadata": {
  "kernelspec": {
   "display_name": "Python 3",
   "language": "python",
   "name": "python3"
  },
  "language_info": {
   "codemirror_mode": {
    "name": "ipython",
    "version": 3
   },
   "file_extension": ".py",
   "mimetype": "text/x-python",
   "name": "python",
   "nbconvert_exporter": "python",
   "pygments_lexer": "ipython3",
   "version": "3.10.11"
  }
 },
 "nbformat": 4,
 "nbformat_minor": 2
}
