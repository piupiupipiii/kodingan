{
 "cells": [
  {
   "cell_type": "code",
   "execution_count": 1,
   "metadata": {},
   "outputs": [
    {
     "ename": "SyntaxError",
     "evalue": "f-string: empty expression not allowed (243184261.py, line 29)",
     "output_type": "error",
     "traceback": [
      "\u001b[1;36m  Cell \u001b[1;32mIn[1], line 29\u001b[1;36m\u001b[0m\n\u001b[1;33m    print(f\" {item['nama']} menerima kenaikan gaji{}, selama 1 tahun, total gaji setelah kenaikan : {}\" .format(satu_tahun, total_gaji_kenaikan))\u001b[0m\n\u001b[1;37m                                                                                                        ^\u001b[0m\n\u001b[1;31mSyntaxError\u001b[0m\u001b[1;31m:\u001b[0m f-string: empty expression not allowed\n"
     ]
    }
   ],
   "source": [
    "data_pegawai = [\n",
    "    {\"nama\": \"Dani\", \"masa kerja\": \"2 tahun\", \"gaji\": 4200000},\n",
    "    {\"nama\": \"Duki\", \"masa kerja\": \"1 tahun\", \"gaji\": 4800000},\n",
    "    {\"nama\": \"Duke\", \"masa kerja\": \"1 tahun\", \"gaji\": 5300000},\n",
    "    {\"nama\": \"Deni\", \"masa kerja\": \"5 tahun\", \"gaji\": 5900000},\n",
    "    {\"nama\": \"Dena\", \"masa kerja\": \"6 tahun\", \"gaji\": 6400000},\n",
    "]\n",
    "\n",
    "total_gaji = sum([item[\"gaji\"] for item in data_pegawai])\n",
    "rata_rata_gaji = total_gaji / len(data_pegawai)\n",
    "\n",
    "umr_bdg = int(input(\"masukkan umr bandung\"))\n",
    "\n",
    "for item in data_pegawai:\n",
    "    if  item [\"gaji\"] > rata_rata_gaji:\n",
    "        print(f\" {item['nama']} : gaji memenuhi dari rata-rata\")\n",
    "    else :\n",
    "        print(f\" {item['nama']} : gaji kurang dari rata-rata\")\n",
    "       \n",
    "    \n",
    "satu_tahun = 1250000\n",
    "total_gaji_kenaikan = satu_tahun + total_gaji\n",
    "\n",
    "if (total_gaji + satu_tahun) > 0:\n",
    "    total_gaji_kenaikan = total_gaji + 1250000\n",
    "\n",
    "# proses output\n",
    "for nama in data_pegawai:\n",
    "    print(f\" {item['nama']} menerima kenaikan gaji{}, selama 1 tahun, total gaji setelah kenaikan : {}\" .format(satu_tahun, total_gaji_kenaikan))\n",
    "\n"
   ]
  }
 ],
 "metadata": {
  "kernelspec": {
   "display_name": "Python 3",
   "language": "python",
   "name": "python3"
  },
  "language_info": {
   "codemirror_mode": {
    "name": "ipython",
    "version": 3
   },
   "file_extension": ".py",
   "mimetype": "text/x-python",
   "name": "python",
   "nbconvert_exporter": "python",
   "pygments_lexer": "ipython3",
   "version": "3.10.11"
  }
 },
 "nbformat": 4,
 "nbformat_minor": 2
}
