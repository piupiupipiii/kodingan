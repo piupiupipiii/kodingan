{
 "cells": [
  {
   "cell_type": "code",
   "execution_count": 1,
   "metadata": {},
   "outputs": [
    {
     "name": "stdout",
     "output_type": "stream",
     "text": [
      "nani adalah mahasiswa tidak aktif\n",
      "uni adalah mahasiswa tidak aktif\n",
      "ani adalah mahasiswa tidak aktif\n",
      "ina adalah mahasiswa aktif\n",
      "pipi adalah mahasiswa aktif\n",
      "ipi adalah mahasiswa aktif\n",
      "Selesai\n"
     ]
    }
   ],
   "source": [
    "mahasiswa = ['ipi', 'pipi', 'ina', 'ani', 'uni', 'nani']\n",
    "mahasiswa_aktif = ['ipi', 'pipi', 'ina']\n",
    "\n",
    "while len(mahasiswa) > 0:\n",
    "    mahasiswa_saat_ini = mahasiswa.pop()\n",
    "    if mahasiswa_saat_ini in mahasiswa_aktif:\n",
    "        status = 'aktif'\n",
    "    else:\n",
    "        status = 'tidak aktif'\n",
    "    \n",
    "    print(f\"{mahasiswa_saat_ini} adalah mahasiswa {status}\")\n",
    "\n",
    "print(\"Selesai\")\n"
   ]
  },
  {
   "cell_type": "code",
   "execution_count": 8,
   "metadata": {},
   "outputs": [
    {
     "name": "stdout",
     "output_type": "stream",
     "text": [
      "ipi adalah mahasiswa aktif\n",
      "pipi adalah mahasiswa aktif\n",
      "ina adalah mahasiswa aktif\n",
      "ani adalah mahasiswa tidak aktif\n",
      "uni adalah mahasiswa tidak aktif\n",
      "nani adalah mahasiswa tidak aktif\n"
     ]
    }
   ],
   "source": [
    "mahasiswa = ['ipi', 'pipi', 'ina', 'ani', 'uni', 'nani']\n",
    "mahasiswa_aktif = ['ipi', 'pipi', 'ina']\n",
    "\n",
    "i = 0  # Indeks awal\n",
    "while i < len(mahasiswa):\n",
    "    mahasiswa_saat_ini = mahasiswa[i]\n",
    "    if mahasiswa_saat_ini in mahasiswa_aktif:\n",
    "        status = 'aktif'\n",
    "    else:\n",
    "        status = 'tidak aktif'\n",
    "    \n",
    "    print(f\"{mahasiswa_saat_ini} adalah mahasiswa {status}\")\n",
    "    i += 1  # Naikkan indeks untuk memeriksa mahasiswa berikutnya\n",
    "\n",
    "\n"
   ]
  },
  {
   "cell_type": "code",
   "execution_count": 10,
   "metadata": {},
   "outputs": [
    {
     "name": "stdout",
     "output_type": "stream",
     "text": [
      "Diash adalah mahasiswa aktif\n",
      "Firdaus adalah mahasiswa aktif\n",
      "Lisa adalah mahasiswa aktif\n",
      "Kristiana adalah mahasiswa tidak aktif\n",
      "Yusup adalah mahasiswa tidak aktif\n",
      "Miftahuddin adalah mahasiswa tidak aktif\n"
     ]
    }
   ],
   "source": [
    "mhs = ['Diash', 'Firdaus', 'Lisa', 'Kristiana', 'Yusup', 'Miftahuddin'] #list mahasiswa\n",
    "mahasiswa_aktif = ['Diash', 'Firdaus', 'Lisa'] #list mahasiswa yang aktif perkuliahan\n",
    "\n",
    "i = 0 #indeks dimulai dari 0 yang berarti memulai peulangan dari elemen pertama\n",
    "while i < len(mhs): #looping akan terus berjalan selama nilai indeks lebih kecil dari panjang daftar mhs\n",
    "    mahasiswa = mhs[i] #nama mahsiswa dari list mhs ddismpan di variabel bernama mahaiswa\n",
    "    if mahasiswa in mahasiswa_aktif:\n",
    "        status = 'aktif'\n",
    "    else:\n",
    "        status = 'tidak aktif'\n",
    "\n",
    "    print(f\"{mahasiswa} adalah mahasiswa {status}\")\n",
    "    i += 1 #untuk memeriksa mahassiswa berikutnya di iterasi selanjutnya\n",
    "\n"
   ]
  }
 ],
 "metadata": {
  "kernelspec": {
   "display_name": "Python 3",
   "language": "python",
   "name": "python3"
  },
  "language_info": {
   "codemirror_mode": {
    "name": "ipython",
    "version": 3
   },
   "file_extension": ".py",
   "mimetype": "text/x-python",
   "name": "python",
   "nbconvert_exporter": "python",
   "pygments_lexer": "ipython3",
   "version": "3.10.11"
  }
 },
 "nbformat": 4,
 "nbformat_minor": 2
}
