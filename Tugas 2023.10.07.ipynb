{
 "cells": [
  {
   "cell_type": "code",
   "execution_count": 1,
   "metadata": {},
   "outputs": [
    {
     "name": "stdout",
     "output_type": "stream",
     "text": [
      "pipi\n",
      "nama saya: pipi\n"
     ]
    }
   ],
   "source": [
    "nama = input (\"Masukkan nama\")\n",
    "\n",
    "print(nama)\n",
    "print(\"nama saya:\", nama)\n"
   ]
  },
  {
   "cell_type": "code",
   "execution_count": 2,
   "metadata": {},
   "outputs": [
    {
     "name": "stdout",
     "output_type": "stream",
     "text": [
      "pipi\n",
      "Hello pipi selamat datang diitenas\n"
     ]
    }
   ],
   "source": [
    "nama = input(\"masukkan nama\")\n",
    "kampus = input(\"masukkan kampus\")\n",
    "\n",
    "print(nama)\n",
    "print(\"Hello {} selamat datang di {}\".format(nama, kampus))\n"
   ]
  },
  {
   "cell_type": "code",
   "execution_count": 3,
   "metadata": {},
   "outputs": [
    {
     "name": "stdout",
     "output_type": "stream",
     "text": [
      "pipi\n",
      "Hello pipi selamat datang diitenas\n",
      "nama saya pipi\n"
     ]
    }
   ],
   "source": [
    "nama = input(\"masukkan nama\")\n",
    "kampus = input(\"masukkan kampus\")\n",
    "\n",
    "print(nama)\n",
    "print(\"Hello {} selamat datang di {}\".format(nama, kampus))\n",
    "print(\"nama saya %s\"%nama)  #s itu berarti string#\n"
   ]
  },
  {
   "cell_type": "code",
   "execution_count": 12,
   "metadata": {},
   "outputs": [
    {
     "name": "stdout",
     "output_type": "stream",
     "text": [
      "nama saya pipi\n",
      "umur saya 19\n",
      "tinggi badan saya 148.500000\n"
     ]
    }
   ],
   "source": [
    "nama = input(\"masukkan nama\")\n",
    "umur = int(input(\"masukkan umur\"))\n",
    "tinggi = float(input(\"masukkan tinggi badan\"))\n",
    "\n",
    "print(\"nama saya %s\"%nama)  #s itu berarti string#\n",
    "print(\"umur saya %s\"%umur)\n",
    "print(\"tinggi badan saya %f\"%tinggi)  #f itu berarti float#\n"
   ]
  },
  {
   "cell_type": "code",
   "execution_count": 15,
   "metadata": {},
   "outputs": [
    {
     "name": "stdout",
     "output_type": "stream",
     "text": [
      "merkurius*venus bumi%"
     ]
    }
   ],
   "source": [
    "print('merkurius', end='*')\n",
    "print('venus', end=' ')\n",
    "print('bumi', end='%')\n"
   ]
  },
  {
   "cell_type": "code",
   "execution_count": 18,
   "metadata": {},
   "outputs": [
    {
     "name": "stdout",
     "output_type": "stream",
     "text": [
      "1\n",
      "2\n",
      "1 * 2 = 2\n"
     ]
    }
   ],
   "source": [
    "a = int(input(\"masukkan a\"))\n",
    "\n",
    "print(a)\n",
    "\n",
    "b = int(input(\"masukkan b\"))\n",
    "\n",
    "print(b)\n",
    "print(a, '*', b, '=', a*b)\n"
   ]
  },
  {
   "cell_type": "code",
   "execution_count": 19,
   "metadata": {},
   "outputs": [
    {
     "name": "stdout",
     "output_type": "stream",
     "text": [
      "1 * 2 = 2\n"
     ]
    }
   ],
   "source": [
    "a = int(input(\"masukkan a\"))\n",
    "b = int(input(\"masukkan b\"))\n",
    "\n",
    "print(a, '*', b, '=', a*b)\n"
   ]
  },
  {
   "cell_type": "code",
   "execution_count": 20,
   "metadata": {},
   "outputs": [
    {
     "name": "stdout",
     "output_type": "stream",
     "text": [
      "pipi dan ipi\n"
     ]
    }
   ],
   "source": [
    "print('{} dan {}' .format('pipi', 'ipi'))\n"
   ]
  },
  {
   "cell_type": "code",
   "execution_count": 22,
   "metadata": {},
   "outputs": [
    {
     "name": "stdout",
     "output_type": "stream",
     "text": [
      "aliya dan pipi\n"
     ]
    }
   ],
   "source": [
    "print('{1} dan {0}' .format('pipi', 'aliya'))\n"
   ]
  },
  {
   "cell_type": "code",
   "execution_count": 36,
   "metadata": {},
   "outputs": [
    {
     "name": "stdout",
     "output_type": "stream",
     "text": [
      "halo silvy azkia\n"
     ]
    }
   ],
   "source": [
    "print('halo {namadepan} {namabelakang}'.format(namadepan='silvy', namabelakang='azkia'))\n"
   ]
  },
  {
   "cell_type": "code",
   "execution_count": 2,
   "metadata": {},
   "outputs": [
    {
     "name": "stdout",
     "output_type": "stream",
     "text": [
      "umur saya 19\n"
     ]
    }
   ],
   "source": [
    "print(f\"umur saya {umur}\")\n"
   ]
  },
  {
   "cell_type": "code",
   "execution_count": 34,
   "metadata": {},
   "outputs": [
    {
     "name": "stdout",
     "output_type": "stream",
     "text": [
      "2 * 6 = 12\n",
      "2 + 6 = 8\n",
      "2 - 6 = -4\n",
      "2 / 6 = 0.3333333333333333\n",
      "2 % 6 = 2\n",
      "2 ** 6 = 64\n"
     ]
    }
   ],
   "source": [
    "a = int(input(\"masukkan a\"))\n",
    "b = int(input(\"masukkan b\"))\n",
    "\n",
    "print(a, '*', b, '=', a*b)\n",
    "print(a, '+', b, '=', a+b)\n",
    "print(a, '-', b, '=', a-b)\n",
    "print(a, '/', b, '=', a/b)\n",
    "print(a, '%', b, '=', a%b)\n",
    "print(a, '**', b, '=', a**b)\n"
   ]
  },
  {
   "cell_type": "code",
   "execution_count": 37,
   "metadata": {},
   "outputs": [
    {
     "name": "stdout",
     "output_type": "stream",
     "text": [
      "False\n"
     ]
    }
   ],
   "source": [
    "a = 9\n",
    "b = 8\n",
    "c =  a<b\n",
    "\n",
    "print(c)\n"
   ]
  },
  {
   "cell_type": "code",
   "execution_count": 40,
   "metadata": {},
   "outputs": [
    {
     "name": "stdout",
     "output_type": "stream",
     "text": [
      "2\n",
      "5\n",
      "2 < 5 = True\n",
      "2 > 5 = False\n",
      "2 == 5 = False\n",
      "2 != 5 = True\n",
      "2 >= 5 = False\n",
      "2 <= 5 = True\n"
     ]
    }
   ],
   "source": [
    "a = int(input(\"masukkan a\"))\n",
    "\n",
    "print(a)\n",
    "\n",
    "b = int(input(\"masukkan b\"))\n",
    "\n",
    "print(b)\n",
    "print(a, '<', b, '=', a<b)\n",
    "print(a, '>', b, '=', a>b)\n",
    "print(a, '==', b, '=', a==b)\n",
    "print(a, '!=', b, '=', a!=b)\n",
    "print(a, '>=', b, '=', a>=b)\n",
    "print(a, '<=', b, '=', a<=b)\n"
   ]
  },
  {
   "cell_type": "code",
   "execution_count": 41,
   "metadata": {},
   "outputs": [
    {
     "name": "stdout",
     "output_type": "stream",
     "text": [
      "10\n",
      "10\n",
      "10 != 10 = False\n"
     ]
    }
   ],
   "source": [
    "a = int(input(\"masukkan a\"))\n",
    "\n",
    "print(a)\n",
    "\n",
    "b = int(input(\"masukkan b\"))\n",
    "\n",
    "print(b)\n",
    "print(a, '!=', b, '=', a!=b)\n",
    "#!= artinya jika tidak sama dengan, jika nilainya bernilai sama maka hasilnya false karena nilainya sama\n"
   ]
  },
  {
   "cell_type": "code",
   "execution_count": 42,
   "metadata": {},
   "outputs": [
    {
     "name": "stdout",
     "output_type": "stream",
     "text": [
      "jomblo\n"
     ]
    }
   ],
   "source": [
    "umur = int(input(\"masukan umur\"))\n",
    "\n",
    "if umur >= 25:\n",
    "    print(\"menikah\")\n",
    "else :\n",
    "    print(\"jomblo\")\n"
   ]
  },
  {
   "cell_type": "code",
   "execution_count": 6,
   "metadata": {},
   "outputs": [
    {
     "name": "stdout",
     "output_type": "stream",
     "text": [
      "4\n",
      "0b100\n",
      "0b101\n",
      "0b100\n",
      "---\n",
      "5\n",
      "0b100\n",
      "0b101\n",
      "0b101\n"
     ]
    }
   ],
   "source": [
    "# Instruksi:\n",
    "#masukkan nilai a=4\n",
    "#masukkan nilai b=5\n",
    "# a&b = 4 -------- karena di dalam biner 0100 and 0101 maka hasilnya 0100\n",
    "# a|b = 5 -------- karena di dalam biner 0100 or 0101 maka hasilnya 0101\n",
    "\n",
    "# Deklarasi variable a dan b dengan value sesuai masing-masing instruksi\n",
    "a = 4\n",
    "b = 5\n",
    "\n",
    "print(a & b) # hasilnya akan sama dengan 4\n",
    "\n",
    "# Karena binary dari a dan b,\n",
    "# jika dilakukan operasi AND pada masing-masing bit var a terhadap var b\n",
    "# akan menghasilkan 100 dalam binary atau 4 dalam decimal\n",
    "#\n",
    "# 1   0   0   = 4\n",
    "# &   &   &\n",
    "# 1   0   1   = 5\n",
    "# =   =   =\n",
    "# 1   0   0   = 4\n",
    "#\n",
    "# 0b di depan hanya untuk menandakan\n",
    "# bahwa yang diprint merupakan representasi dalam bentuk binary\n",
    "print(bin(a), bin(b), bin(a & b), sep='\\n')\n",
    "\n",
    "print('---')\n",
    "print(a | b) # hasilnya akan sama dengan 5\n",
    "\n",
    "# Karena binary dari a dan b,\n",
    "# jika dilakukan operasi OR pada masing-masing bit var a terhadap var b\n",
    "# akan menghasilkan 101 dalam binary atau 5 dalam decimal\n",
    "#\n",
    "# 1   0   0   = 4\n",
    "# |   |   |\n",
    "# 1   0   1   = 5\n",
    "# =   =   =\n",
    "# 1   0   1   = 5\n",
    "#\n",
    "# 0b di depan hanya untuk menandakan\n",
    "# bahwa yang diprint merupakan representasi dalam bentuk binary\n",
    "print(bin(a), bin(b), bin(a | b), sep='\\n')\n"
   ]
  },
  {
   "cell_type": "code",
   "execution_count": 1,
   "metadata": {},
   "outputs": [
    {
     "ename": "ValueError",
     "evalue": "could not convert string to float: ''",
     "output_type": "error",
     "traceback": [
      "\u001b[1;31m---------------------------------------------------------------------------\u001b[0m",
      "\u001b[1;31mValueError\u001b[0m                                Traceback (most recent call last)",
      "\u001b[1;32mc:\\Users\\Silvy Nur Azkia\\OneDrive\\Desktop\\Documents\\Kuliah\\tugas kuliah\\Pemrograman dasar\\Untitled-4.ipynb Cell 18\u001b[0m line \u001b[0;36m3\n\u001b[0;32m      <a href='vscode-notebook-cell:/c%3A/Users/Silvy%20Nur%20Azkia/OneDrive/Desktop/Documents/Kuliah/tugas%20kuliah/Pemrograman%20dasar/Untitled-4.ipynb#X23sZmlsZQ%3D%3D?line=0'>1</a>\u001b[0m nama \u001b[39m=\u001b[39m \u001b[39minput\u001b[39m(\u001b[39m\"\u001b[39m\u001b[39mmasukkan nama\u001b[39m\u001b[39m\"\u001b[39m)\n\u001b[0;32m      <a href='vscode-notebook-cell:/c%3A/Users/Silvy%20Nur%20Azkia/OneDrive/Desktop/Documents/Kuliah/tugas%20kuliah/Pemrograman%20dasar/Untitled-4.ipynb#X23sZmlsZQ%3D%3D?line=1'>2</a>\u001b[0m umur \u001b[39m=\u001b[39m \u001b[39mint\u001b[39m(\u001b[39minput\u001b[39m(\u001b[39m\"\u001b[39m\u001b[39mmasukkan umur\u001b[39m\u001b[39m\"\u001b[39m))\n\u001b[1;32m----> <a href='vscode-notebook-cell:/c%3A/Users/Silvy%20Nur%20Azkia/OneDrive/Desktop/Documents/Kuliah/tugas%20kuliah/Pemrograman%20dasar/Untitled-4.ipynb#X23sZmlsZQ%3D%3D?line=2'>3</a>\u001b[0m tinggi \u001b[39m=\u001b[39m \u001b[39mfloat\u001b[39;49m(\u001b[39minput\u001b[39;49m(\u001b[39m\"\u001b[39;49m\u001b[39mmasukkan tinggi badan\u001b[39;49m\u001b[39m\"\u001b[39;49m))\n\u001b[0;32m      <a href='vscode-notebook-cell:/c%3A/Users/Silvy%20Nur%20Azkia/OneDrive/Desktop/Documents/Kuliah/tugas%20kuliah/Pemrograman%20dasar/Untitled-4.ipynb#X23sZmlsZQ%3D%3D?line=3'>4</a>\u001b[0m kuliah \u001b[39m=\u001b[39m \u001b[39minput\u001b[39m(\u001b[39m\"\u001b[39m\u001b[39mmasukkan nama kampus\u001b[39m\u001b[39m\"\u001b[39m)\n\u001b[0;32m      <a href='vscode-notebook-cell:/c%3A/Users/Silvy%20Nur%20Azkia/OneDrive/Desktop/Documents/Kuliah/tugas%20kuliah/Pemrograman%20dasar/Untitled-4.ipynb#X23sZmlsZQ%3D%3D?line=4'>5</a>\u001b[0m \u001b[39mprint\u001b[39m(\u001b[39m\"\u001b[39m\u001b[39mnama saya \u001b[39m\u001b[39m%s\u001b[39;00m\u001b[39m\"\u001b[39m\u001b[39m%\u001b[39mnama)  \u001b[39m#s itu berarti string#\u001b[39;00m\n",
      "\u001b[1;31mValueError\u001b[0m: could not convert string to float: ''"
     ]
    }
   ],
   "source": [
    "nama = input(\"masukkan nama\")\n",
    "umur = int(input(\"masukkan umur\"))\n",
    "tinggi = float(input(\"masukkan tinggi badan\"))\n",
    "kuliah = input(\"masukkan nama kampus\")\n",
    "\n",
    "print(\"nama saya %s\"%nama)  #s itu berarti string#\n",
    "print(\"umur saya %s\"%umur)\n",
    "print(\"tinggi badan saya %f\"%tinggi)  #f itu berarti float#\n",
    "print(\"saya kuliah di %s\"%kuliah)  #s itu berarti string#\n"
   ]
  },
  {
   "cell_type": "code",
   "execution_count": 4,
   "metadata": {},
   "outputs": [
    {
     "ename": "KeyError",
     "evalue": "'namadepan'",
     "output_type": "error",
     "traceback": [
      "\u001b[1;31m---------------------------------------------------------------------------\u001b[0m",
      "\u001b[1;31mKeyError\u001b[0m                                  Traceback (most recent call last)",
      "\u001b[1;32mc:\\Users\\Silvy Nur Azkia\\OneDrive\\Desktop\\Documents\\Kuliah\\tugas kuliah\\Pemrograman dasar\\Untitled-4.ipynb Cell 19\u001b[0m line \u001b[0;36m3\n\u001b[0;32m      <a href='vscode-notebook-cell:/c%3A/Users/Silvy%20Nur%20Azkia/OneDrive/Desktop/Documents/Kuliah/tugas%20kuliah/Pemrograman%20dasar/Untitled-4.ipynb#X24sZmlsZQ%3D%3D?line=0'>1</a>\u001b[0m namadepan \u001b[39m=\u001b[39m \u001b[39minput\u001b[39m(\u001b[39m\"\u001b[39m\u001b[39mmasukkan nama\u001b[39m\u001b[39m\"\u001b[39m)\n\u001b[0;32m      <a href='vscode-notebook-cell:/c%3A/Users/Silvy%20Nur%20Azkia/OneDrive/Desktop/Documents/Kuliah/tugas%20kuliah/Pemrograman%20dasar/Untitled-4.ipynb#X24sZmlsZQ%3D%3D?line=1'>2</a>\u001b[0m namabelakang \u001b[39m=\u001b[39m \u001b[39minput\u001b[39m(\u001b[39m\"\u001b[39m\u001b[39mmasukkan nama\u001b[39m\u001b[39m\"\u001b[39m)\n\u001b[1;32m----> <a href='vscode-notebook-cell:/c%3A/Users/Silvy%20Nur%20Azkia/OneDrive/Desktop/Documents/Kuliah/tugas%20kuliah/Pemrograman%20dasar/Untitled-4.ipynb#X24sZmlsZQ%3D%3D?line=2'>3</a>\u001b[0m \u001b[39mprint\u001b[39m(\u001b[39m'\u001b[39;49m\u001b[39mhalo \u001b[39;49m\u001b[39m{namadepan}\u001b[39;49;00m\u001b[39m \u001b[39;49m\u001b[39m{namabelakang}\u001b[39;49;00m\u001b[39m'\u001b[39;49m \u001b[39m.\u001b[39;49mformat(\u001b[39m'\u001b[39;49m\u001b[39mnama\u001b[39;49m\u001b[39m'\u001b[39;49m))\n",
      "\u001b[1;31mKeyError\u001b[0m: 'namadepan'"
     ]
    }
   ],
   "source": [
    "namadepan = input(\"masukkan nama\")\n",
    "namabelakang = input(\"masukkan nama\")\n",
    "\n",
    "print('halo {namadepan} {namabelakang}'.format('nama'))\n"
   ]
  },
  {
   "cell_type": "code",
   "execution_count": 8,
   "metadata": {},
   "outputs": [
    {
     "name": "stdout",
     "output_type": "stream",
     "text": [
      "masukkan bilangan : 7\n",
      "bukan kelipatan 3\n"
     ]
    }
   ],
   "source": [
    "a = int(input(\"masukkan bilangan\")) #digunakan untuk mengambil inputan, dan int mengonversi input tersebut menjadi integer..\n",
    "\n",
    "print(\"masukkan bilangan : {}\". format(a)) #mencetak kembali bilangan yang diinputkan menggunakan fungsi print\n",
    "\n",
    "if a % 3 == 0: #menggunakan operator modulo (%) untuk memeriksa apakah bilangan a habis dibagi oleh 3.\n",
    "    print(\"kelipatan 3\") #Jika bilangan habis dibagi oleh 3 (a % 3 == 0), program akan mencetak \"Kelipatan 3\".\n",
    "else:\n",
    "    print(\"bukan kelipatan 3\") #Jika tidak, program akan mencetak \"Bukan kelipatan 3\".\n"
   ]
  },
  {
   "cell_type": "code",
   "execution_count": 23,
   "metadata": {},
   "outputs": [
    {
     "name": "stdout",
     "output_type": "stream",
     "text": [
      "Masukkan Nama Kamu : pipi\n",
      "Masukkan banyak looping : 5\n",
      "No 0. pipi\n",
      "No 1. pipi\n",
      "No 2. pipi\n",
      "No 3. pipi\n",
      "No 4. pipi\n"
     ]
    }
   ],
   "source": [
    "a = input(\"masukkan nama : \")\n",
    "\n",
    "print (\"Masukkan Nama Kamu : {}\". format(a))\n",
    "\n",
    "# Input angka untuk looping\n",
    "b = int(input(\"masukkan banyak looping : \"))\n",
    "\n",
    "print (\"Masukkan banyak looping : {}\". format(b))\n",
    "\n",
    "# Buat range dari 0 sampai jumlah looping - 1\n",
    "#   Contoh: jumlah looping adalah 5, maka rangenya 0 s/d 4\n",
    "# Lalu looping range tersebut,\n",
    "# dan masukan setiap angka dalam range ke variable i\n",
    "for i in range(b):\n",
    "    # Print angka dalam range\n",
    "    # diikuti dengan nama yang sudah diinput di awal\n",
    "    print('No {}. {}'. format (i, a))\n"
   ]
  },
  {
   "cell_type": "code",
   "execution_count": 25,
   "metadata": {},
   "outputs": [
    {
     "name": "stdout",
     "output_type": "stream",
     "text": [
      "Masukkan Banyak Mahasiswa : 5\n"
     ]
    }
   ],
   "source": [
    "# Input angka jumlah mahasiswa\n",
    "jumlah = int(input(\"Masukkan Banyak Mahasiswa : \"))\n",
    "\n",
    "print (\"Masukkan Banyak Mahasiswa : {}\".format(jumlah))\n",
    "\n",
    "# Buat range dari 0 sampai jumlah mahasiswa - 1\n",
    "#   Contoh: jumlah mahasiswa adalah 5, maka rangenya 0 s/d 4\n",
    "# Lalu looping range tersebut,\n",
    "# dan masukan setiap angka dalam range ke variable i\n",
    "for i in range(jumlah):\n",
    "    # Input nama mahasiswa sesuai angka range jumlah mahasiswa saat ini\n",
    "    nama = input(\"Masukkan nama mahasiswa ke-{}:\". format(i))\n",
    "    # Input angka jumlah mata kuliah\n",
    "    matkul = int(input(\"Jumlah Matkul : \"))\n",
    "\n",
    "    # Buat range dari 0 sampai jumlah mata kuliah - 1\n",
    "    #   Contoh: jumlah mata kuliah adalah 5, maka rangenya 0 s/d 4\n",
    "    # Lalu looping range tersebut,\n",
    "    # dan masukan setiap angka dalam range ke variable j\n",
    "    for j in range(matkul):\n",
    "        # Input nilai mata kuliah sesuai angka range jumlah mata kuliah saat ini\n",
    "        nilai = int(input(\"Nilai Matkul ke-{}:\". format(j)))\n"
   ]
  },
  {
   "cell_type": "code",
   "execution_count": 1,
   "metadata": {},
   "outputs": [],
   "source": [
    "fix_blur_kamera = 30\n",
    "m = fix_blur_kamera\n",
    "\n",
    "if m > 30:\n",
    "    print(\"putar ke kiri\")\n",
    "elif m < 30:\n",
    "    print(\"putar ke kanan\")\n"
   ]
  }
 ],
 "metadata": {
  "kernelspec": {
   "display_name": "Python 3",
   "language": "python",
   "name": "python3"
  },
  "language_info": {
   "codemirror_mode": {
    "name": "ipython",
    "version": 3
   },
   "file_extension": ".py",
   "mimetype": "text/x-python",
   "name": "python",
   "nbconvert_exporter": "python",
   "pygments_lexer": "ipython3",
   "version": "3.10.11"
  },
  "orig_nbformat": 4
 },
 "nbformat": 4,
 "nbformat_minor": 2
}
