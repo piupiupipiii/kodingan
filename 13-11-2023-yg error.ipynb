{
 "cells": [
  {
   "cell_type": "code",
   "execution_count": 1,
   "metadata": {},
   "outputs": [
    {
     "name": "stdout",
     "output_type": "stream",
     "text": [
      "Requirement already satisfied: openpyxl in c:\\users\\silvy nur azkia\\appdata\\local\\packages\\pythonsoftwarefoundation.python.3.10_qbz5n2kfra8p0\\localcache\\local-packages\\python310\\site-packages (3.1.2)\n",
      "Requirement already satisfied: et-xmlfile in c:\\users\\silvy nur azkia\\appdata\\local\\packages\\pythonsoftwarefoundation.python.3.10_qbz5n2kfra8p0\\localcache\\local-packages\\python310\\site-packages (from openpyxl) (1.1.0)\n",
      "Note: you may need to restart the kernel to use updated packages.\n"
     ]
    },
    {
     "name": "stderr",
     "output_type": "stream",
     "text": [
      "\n",
      "[notice] A new release of pip is available: 23.0.1 -> 23.3.1\n",
      "[notice] To update, run: C:\\Users\\Silvy Nur Azkia\\AppData\\Local\\Microsoft\\WindowsApps\\PythonSoftwareFoundation.Python.3.10_qbz5n2kfra8p0\\python.exe -m pip install --upgrade pip\n"
     ]
    }
   ],
   "source": [
    "pip install openpyxl\n"
   ]
  },
  {
   "cell_type": "code",
   "execution_count": 3,
   "metadata": {},
   "outputs": [
    {
     "name": "stdout",
     "output_type": "stream",
     "text": [
      "      id  kode_provinsi nama_provinsi  kode_kabupaten_kota  \\\n",
      "0      1             32    JAWA BARAT                 3201   \n",
      "1      2             32    JAWA BARAT                 3202   \n",
      "2      3             32    JAWA BARAT                 3203   \n",
      "3      4             32    JAWA BARAT                 3204   \n",
      "4      5             32    JAWA BARAT                 3205   \n",
      "..   ...            ...           ...                  ...   \n",
      "265  266             32    JAWA BARAT                 3275   \n",
      "266  267             32    JAWA BARAT                 3276   \n",
      "267  268             32    JAWA BARAT                 3277   \n",
      "268  269             32    JAWA BARAT                 3278   \n",
      "269  270             32    JAWA BARAT                 3279   \n",
      "\n",
      "    nama_kabupaten_kota  jumlah_tanah_longsor    satuan  tahun  \n",
      "0       KABUPATEN BOGOR                     0  KEJADIAN   2012  \n",
      "1    KABUPATEN SUKABUMI                    48  KEJADIAN   2012  \n",
      "2     KABUPATEN CIANJUR                     9  KEJADIAN   2012  \n",
      "3     KABUPATEN BANDUNG                    12  KEJADIAN   2012  \n",
      "4       KABUPATEN GARUT                    36  KEJADIAN   2012  \n",
      "..                  ...                   ...       ...    ...  \n",
      "265         KOTA BEKASI                     2  KEJADIAN   2021  \n",
      "266          KOTA DEPOK                     2  KEJADIAN   2021  \n",
      "267         KOTA CIMAHI                     3  KEJADIAN   2021  \n",
      "268    KOTA TASIKMALAYA                     2  KEJADIAN   2021  \n",
      "269         KOTA BANJAR                     3  KEJADIAN   2021  \n",
      "\n",
      "[270 rows x 8 columns]\n"
     ]
    }
   ],
   "source": [
    "import pandas as pd\n",
    "file_path = \"C:\\\\Users\\\\Silvy Nur Azkia\\\\Downloads\\\\tanah_longsor.xlsx\"\n",
    "df = pd.read_excel(file_path)\n",
    "print(df)\n"
   ]
  },
  {
   "cell_type": "code",
   "execution_count": 4,
   "metadata": {},
   "outputs": [
    {
     "data": {
      "text/html": [
       "<div>\n",
       "<style scoped>\n",
       "    .dataframe tbody tr th:only-of-type {\n",
       "        vertical-align: middle;\n",
       "    }\n",
       "\n",
       "    .dataframe tbody tr th {\n",
       "        vertical-align: top;\n",
       "    }\n",
       "\n",
       "    .dataframe thead th {\n",
       "        text-align: right;\n",
       "    }\n",
       "</style>\n",
       "<table border=\"1\" class=\"dataframe\">\n",
       "  <thead>\n",
       "    <tr style=\"text-align: right;\">\n",
       "      <th></th>\n",
       "      <th>id</th>\n",
       "      <th>kode_provinsi</th>\n",
       "      <th>nama_provinsi</th>\n",
       "      <th>kode_kabupaten_kota</th>\n",
       "      <th>nama_kabupaten_kota</th>\n",
       "      <th>jumlah_tanah_longsor</th>\n",
       "      <th>satuan</th>\n",
       "      <th>tahun</th>\n",
       "    </tr>\n",
       "  </thead>\n",
       "  <tbody>\n",
       "    <tr>\n",
       "      <th>0</th>\n",
       "      <td>1</td>\n",
       "      <td>32</td>\n",
       "      <td>JAWA BARAT</td>\n",
       "      <td>3201</td>\n",
       "      <td>KABUPATEN BOGOR</td>\n",
       "      <td>0</td>\n",
       "      <td>KEJADIAN</td>\n",
       "      <td>2012</td>\n",
       "    </tr>\n",
       "    <tr>\n",
       "      <th>1</th>\n",
       "      <td>2</td>\n",
       "      <td>32</td>\n",
       "      <td>JAWA BARAT</td>\n",
       "      <td>3202</td>\n",
       "      <td>KABUPATEN SUKABUMI</td>\n",
       "      <td>48</td>\n",
       "      <td>KEJADIAN</td>\n",
       "      <td>2012</td>\n",
       "    </tr>\n",
       "    <tr>\n",
       "      <th>2</th>\n",
       "      <td>3</td>\n",
       "      <td>32</td>\n",
       "      <td>JAWA BARAT</td>\n",
       "      <td>3203</td>\n",
       "      <td>KABUPATEN CIANJUR</td>\n",
       "      <td>9</td>\n",
       "      <td>KEJADIAN</td>\n",
       "      <td>2012</td>\n",
       "    </tr>\n",
       "    <tr>\n",
       "      <th>3</th>\n",
       "      <td>4</td>\n",
       "      <td>32</td>\n",
       "      <td>JAWA BARAT</td>\n",
       "      <td>3204</td>\n",
       "      <td>KABUPATEN BANDUNG</td>\n",
       "      <td>12</td>\n",
       "      <td>KEJADIAN</td>\n",
       "      <td>2012</td>\n",
       "    </tr>\n",
       "    <tr>\n",
       "      <th>4</th>\n",
       "      <td>5</td>\n",
       "      <td>32</td>\n",
       "      <td>JAWA BARAT</td>\n",
       "      <td>3205</td>\n",
       "      <td>KABUPATEN GARUT</td>\n",
       "      <td>36</td>\n",
       "      <td>KEJADIAN</td>\n",
       "      <td>2012</td>\n",
       "    </tr>\n",
       "    <tr>\n",
       "      <th>5</th>\n",
       "      <td>6</td>\n",
       "      <td>32</td>\n",
       "      <td>JAWA BARAT</td>\n",
       "      <td>3206</td>\n",
       "      <td>KABUPATEN TASIKMALAYA</td>\n",
       "      <td>2</td>\n",
       "      <td>KEJADIAN</td>\n",
       "      <td>2012</td>\n",
       "    </tr>\n",
       "    <tr>\n",
       "      <th>6</th>\n",
       "      <td>7</td>\n",
       "      <td>32</td>\n",
       "      <td>JAWA BARAT</td>\n",
       "      <td>3207</td>\n",
       "      <td>KABUPATEN CIAMIS</td>\n",
       "      <td>2</td>\n",
       "      <td>KEJADIAN</td>\n",
       "      <td>2012</td>\n",
       "    </tr>\n",
       "  </tbody>\n",
       "</table>\n",
       "</div>"
      ],
      "text/plain": [
       "   id  kode_provinsi nama_provinsi  kode_kabupaten_kota  \\\n",
       "0   1             32    JAWA BARAT                 3201   \n",
       "1   2             32    JAWA BARAT                 3202   \n",
       "2   3             32    JAWA BARAT                 3203   \n",
       "3   4             32    JAWA BARAT                 3204   \n",
       "4   5             32    JAWA BARAT                 3205   \n",
       "5   6             32    JAWA BARAT                 3206   \n",
       "6   7             32    JAWA BARAT                 3207   \n",
       "\n",
       "     nama_kabupaten_kota  jumlah_tanah_longsor    satuan  tahun  \n",
       "0        KABUPATEN BOGOR                     0  KEJADIAN   2012  \n",
       "1     KABUPATEN SUKABUMI                    48  KEJADIAN   2012  \n",
       "2      KABUPATEN CIANJUR                     9  KEJADIAN   2012  \n",
       "3      KABUPATEN BANDUNG                    12  KEJADIAN   2012  \n",
       "4        KABUPATEN GARUT                    36  KEJADIAN   2012  \n",
       "5  KABUPATEN TASIKMALAYA                     2  KEJADIAN   2012  \n",
       "6       KABUPATEN CIAMIS                     2  KEJADIAN   2012  "
      ]
     },
     "execution_count": 4,
     "metadata": {},
     "output_type": "execute_result"
    }
   ],
   "source": [
    "df.head(7)\n"
   ]
  },
  {
   "cell_type": "code",
   "execution_count": 5,
   "metadata": {},
   "outputs": [
    {
     "data": {
      "text/html": [
       "<div>\n",
       "<style scoped>\n",
       "    .dataframe tbody tr th:only-of-type {\n",
       "        vertical-align: middle;\n",
       "    }\n",
       "\n",
       "    .dataframe tbody tr th {\n",
       "        vertical-align: top;\n",
       "    }\n",
       "\n",
       "    .dataframe thead th {\n",
       "        text-align: right;\n",
       "    }\n",
       "</style>\n",
       "<table border=\"1\" class=\"dataframe\">\n",
       "  <thead>\n",
       "    <tr style=\"text-align: right;\">\n",
       "      <th></th>\n",
       "      <th>id</th>\n",
       "      <th>kode_provinsi</th>\n",
       "      <th>nama_provinsi</th>\n",
       "      <th>kode_kabupaten_kota</th>\n",
       "      <th>nama_kabupaten_kota</th>\n",
       "      <th>jumlah_tanah_longsor</th>\n",
       "      <th>satuan</th>\n",
       "      <th>tahun</th>\n",
       "    </tr>\n",
       "  </thead>\n",
       "  <tbody>\n",
       "    <tr>\n",
       "      <th>265</th>\n",
       "      <td>266</td>\n",
       "      <td>32</td>\n",
       "      <td>JAWA BARAT</td>\n",
       "      <td>3275</td>\n",
       "      <td>KOTA BEKASI</td>\n",
       "      <td>2</td>\n",
       "      <td>KEJADIAN</td>\n",
       "      <td>2021</td>\n",
       "    </tr>\n",
       "    <tr>\n",
       "      <th>266</th>\n",
       "      <td>267</td>\n",
       "      <td>32</td>\n",
       "      <td>JAWA BARAT</td>\n",
       "      <td>3276</td>\n",
       "      <td>KOTA DEPOK</td>\n",
       "      <td>2</td>\n",
       "      <td>KEJADIAN</td>\n",
       "      <td>2021</td>\n",
       "    </tr>\n",
       "    <tr>\n",
       "      <th>267</th>\n",
       "      <td>268</td>\n",
       "      <td>32</td>\n",
       "      <td>JAWA BARAT</td>\n",
       "      <td>3277</td>\n",
       "      <td>KOTA CIMAHI</td>\n",
       "      <td>3</td>\n",
       "      <td>KEJADIAN</td>\n",
       "      <td>2021</td>\n",
       "    </tr>\n",
       "    <tr>\n",
       "      <th>268</th>\n",
       "      <td>269</td>\n",
       "      <td>32</td>\n",
       "      <td>JAWA BARAT</td>\n",
       "      <td>3278</td>\n",
       "      <td>KOTA TASIKMALAYA</td>\n",
       "      <td>2</td>\n",
       "      <td>KEJADIAN</td>\n",
       "      <td>2021</td>\n",
       "    </tr>\n",
       "    <tr>\n",
       "      <th>269</th>\n",
       "      <td>270</td>\n",
       "      <td>32</td>\n",
       "      <td>JAWA BARAT</td>\n",
       "      <td>3279</td>\n",
       "      <td>KOTA BANJAR</td>\n",
       "      <td>3</td>\n",
       "      <td>KEJADIAN</td>\n",
       "      <td>2021</td>\n",
       "    </tr>\n",
       "  </tbody>\n",
       "</table>\n",
       "</div>"
      ],
      "text/plain": [
       "      id  kode_provinsi nama_provinsi  kode_kabupaten_kota  \\\n",
       "265  266             32    JAWA BARAT                 3275   \n",
       "266  267             32    JAWA BARAT                 3276   \n",
       "267  268             32    JAWA BARAT                 3277   \n",
       "268  269             32    JAWA BARAT                 3278   \n",
       "269  270             32    JAWA BARAT                 3279   \n",
       "\n",
       "    nama_kabupaten_kota  jumlah_tanah_longsor    satuan  tahun  \n",
       "265         KOTA BEKASI                     2  KEJADIAN   2021  \n",
       "266          KOTA DEPOK                     2  KEJADIAN   2021  \n",
       "267         KOTA CIMAHI                     3  KEJADIAN   2021  \n",
       "268    KOTA TASIKMALAYA                     2  KEJADIAN   2021  \n",
       "269         KOTA BANJAR                     3  KEJADIAN   2021  "
      ]
     },
     "execution_count": 5,
     "metadata": {},
     "output_type": "execute_result"
    }
   ],
   "source": [
    "df.tail(5)"
   ]
  },
  {
   "cell_type": "code",
   "execution_count": 8,
   "metadata": {},
   "outputs": [
    {
     "name": "stdout",
     "output_type": "stream",
     "text": [
      "<class 'pandas.core.frame.DataFrame'>\n",
      "RangeIndex: 270 entries, 0 to 269\n",
      "Data columns (total 8 columns):\n",
      " #   Column                Non-Null Count  Dtype \n",
      "---  ------                --------------  ----- \n",
      " 0   id                    270 non-null    int64 \n",
      " 1   kode_provinsi         270 non-null    int64 \n",
      " 2   nama_provinsi         270 non-null    object\n",
      " 3   kode_kabupaten_kota   270 non-null    int64 \n",
      " 4   nama_kabupaten_kota   270 non-null    object\n",
      " 5   jumlah_tanah_longsor  270 non-null    int64 \n",
      " 6   satuan                270 non-null    object\n",
      " 7   tahun                 270 non-null    int64 \n",
      "dtypes: int64(5), object(3)\n",
      "memory usage: 17.0+ KB\n"
     ]
    }
   ],
   "source": [
    "df.info()"
   ]
  },
  {
   "cell_type": "code",
   "execution_count": 7,
   "metadata": {},
   "outputs": [
    {
     "data": {
      "text/html": [
       "<div>\n",
       "<style scoped>\n",
       "    .dataframe tbody tr th:only-of-type {\n",
       "        vertical-align: middle;\n",
       "    }\n",
       "\n",
       "    .dataframe tbody tr th {\n",
       "        vertical-align: top;\n",
       "    }\n",
       "\n",
       "    .dataframe thead th {\n",
       "        text-align: right;\n",
       "    }\n",
       "</style>\n",
       "<table border=\"1\" class=\"dataframe\">\n",
       "  <thead>\n",
       "    <tr style=\"text-align: right;\">\n",
       "      <th></th>\n",
       "      <th>id</th>\n",
       "      <th>kode_provinsi</th>\n",
       "      <th>kode_kabupaten_kota</th>\n",
       "      <th>jumlah_tanah_longsor</th>\n",
       "      <th>tahun</th>\n",
       "    </tr>\n",
       "  </thead>\n",
       "  <tbody>\n",
       "    <tr>\n",
       "      <th>count</th>\n",
       "      <td>270.000000</td>\n",
       "      <td>270.0</td>\n",
       "      <td>270.000000</td>\n",
       "      <td>270.000000</td>\n",
       "      <td>270.000000</td>\n",
       "    </tr>\n",
       "    <tr>\n",
       "      <th>mean</th>\n",
       "      <td>135.500000</td>\n",
       "      <td>32.0</td>\n",
       "      <td>3231.333333</td>\n",
       "      <td>20.970370</td>\n",
       "      <td>2016.500000</td>\n",
       "    </tr>\n",
       "    <tr>\n",
       "      <th>std</th>\n",
       "      <td>78.086491</td>\n",
       "      <td>0.0</td>\n",
       "      <td>31.259794</td>\n",
       "      <td>37.892126</td>\n",
       "      <td>2.877615</td>\n",
       "    </tr>\n",
       "    <tr>\n",
       "      <th>min</th>\n",
       "      <td>1.000000</td>\n",
       "      <td>32.0</td>\n",
       "      <td>3201.000000</td>\n",
       "      <td>0.000000</td>\n",
       "      <td>2012.000000</td>\n",
       "    </tr>\n",
       "    <tr>\n",
       "      <th>25%</th>\n",
       "      <td>68.250000</td>\n",
       "      <td>32.0</td>\n",
       "      <td>3207.000000</td>\n",
       "      <td>1.000000</td>\n",
       "      <td>2014.000000</td>\n",
       "    </tr>\n",
       "    <tr>\n",
       "      <th>50%</th>\n",
       "      <td>135.500000</td>\n",
       "      <td>32.0</td>\n",
       "      <td>3214.000000</td>\n",
       "      <td>6.000000</td>\n",
       "      <td>2016.500000</td>\n",
       "    </tr>\n",
       "    <tr>\n",
       "      <th>75%</th>\n",
       "      <td>202.750000</td>\n",
       "      <td>32.0</td>\n",
       "      <td>3273.000000</td>\n",
       "      <td>27.000000</td>\n",
       "      <td>2019.000000</td>\n",
       "    </tr>\n",
       "    <tr>\n",
       "      <th>max</th>\n",
       "      <td>270.000000</td>\n",
       "      <td>32.0</td>\n",
       "      <td>3279.000000</td>\n",
       "      <td>354.000000</td>\n",
       "      <td>2021.000000</td>\n",
       "    </tr>\n",
       "  </tbody>\n",
       "</table>\n",
       "</div>"
      ],
      "text/plain": [
       "               id  kode_provinsi  kode_kabupaten_kota  jumlah_tanah_longsor  \\\n",
       "count  270.000000          270.0           270.000000            270.000000   \n",
       "mean   135.500000           32.0          3231.333333             20.970370   \n",
       "std     78.086491            0.0            31.259794             37.892126   \n",
       "min      1.000000           32.0          3201.000000              0.000000   \n",
       "25%     68.250000           32.0          3207.000000              1.000000   \n",
       "50%    135.500000           32.0          3214.000000              6.000000   \n",
       "75%    202.750000           32.0          3273.000000             27.000000   \n",
       "max    270.000000           32.0          3279.000000            354.000000   \n",
       "\n",
       "             tahun  \n",
       "count   270.000000  \n",
       "mean   2016.500000  \n",
       "std       2.877615  \n",
       "min    2012.000000  \n",
       "25%    2014.000000  \n",
       "50%    2016.500000  \n",
       "75%    2019.000000  \n",
       "max    2021.000000  "
      ]
     },
     "execution_count": 7,
     "metadata": {},
     "output_type": "execute_result"
    }
   ],
   "source": [
    "df.describe()"
   ]
  },
  {
   "cell_type": "code",
   "execution_count": 20,
   "metadata": {},
   "outputs": [
    {
     "ename": "AttributeError",
     "evalue": "'list' object has no attribute 'drop'",
     "output_type": "error",
     "traceback": [
      "\u001b[1;31m---------------------------------------------------------------------------\u001b[0m",
      "\u001b[1;31mAttributeError\u001b[0m                            Traceback (most recent call last)",
      "\u001b[1;32mUntitled-1.ipynb Cell 7\u001b[0m line \u001b[0;36m1\n\u001b[1;32m----> <a href='vscode-notebook-cell:Untitled-1.ipynb?jupyter-notebook#X10sdW50aXRsZWQ%3D?line=0'>1</a>\u001b[0m df\u001b[39m.\u001b[39;49mdrop([\u001b[39m'\u001b[39m\u001b[39mkode_provinsi\u001b[39m\u001b[39m'\u001b[39m], axis\u001b[39m=\u001b[39m\u001b[39m1\u001b[39m)\n",
      "\u001b[1;31mAttributeError\u001b[0m: 'list' object has no attribute 'drop'"
     ]
    }
   ],
   "source": [
    "df.drop(['kode_provinsi'], axis=1)"
   ]
  },
  {
   "cell_type": "code",
   "execution_count": 14,
   "metadata": {},
   "outputs": [
    {
     "ename": "AttributeError",
     "evalue": "'list' object has no attribute 'rename'",
     "output_type": "error",
     "traceback": [
      "\u001b[1;31m---------------------------------------------------------------------------\u001b[0m",
      "\u001b[1;31mAttributeError\u001b[0m                            Traceback (most recent call last)",
      "\u001b[1;32mUntitled-1.ipynb Cell 8\u001b[0m line \u001b[0;36m1\n\u001b[1;32m----> <a href='vscode-notebook-cell:Untitled-1.ipynb?jupyter-notebook#X11sdW50aXRsZWQ%3D?line=0'>1</a>\u001b[0m df\u001b[39m.\u001b[39;49mrename(columns\u001b[39m=\u001b[39m{\u001b[39m'\u001b[39m\u001b[39mnama_kabupaten_kota\u001b[39m\u001b[39m'\u001b[39m:\u001b[39m'\u001b[39m\u001b[39mnama_kabupaten/kota\u001b[39m\u001b[39m'\u001b[39m})\n",
      "\u001b[1;31mAttributeError\u001b[0m: 'list' object has no attribute 'rename'"
     ]
    }
   ],
   "source": [
    "df.rename(columns={'nama_kabupaten_kota':'nama_kabupaten/kota'})"
   ]
  },
  {
   "cell_type": "code",
   "execution_count": 15,
   "metadata": {},
   "outputs": [
    {
     "ename": "AttributeError",
     "evalue": "'list' object has no attribute 'rename'",
     "output_type": "error",
     "traceback": [
      "\u001b[1;31m---------------------------------------------------------------------------\u001b[0m",
      "\u001b[1;31mAttributeError\u001b[0m                            Traceback (most recent call last)",
      "\u001b[1;32mUntitled-1.ipynb Cell 9\u001b[0m line \u001b[0;36m1\n\u001b[1;32m----> <a href='vscode-notebook-cell:Untitled-1.ipynb?jupyter-notebook#X12sdW50aXRsZWQ%3D?line=0'>1</a>\u001b[0m df\u001b[39m.\u001b[39;49mrename(columns\u001b[39m=\u001b[39m{\u001b[39m'\u001b[39m\u001b[39mnama_kabupaten_kota\u001b[39m\u001b[39m'\u001b[39m:\u001b[39m'\u001b[39m\u001b[39mnama_kabupaten/kota\u001b[39m\u001b[39m'\u001b[39m})\n",
      "\u001b[1;31mAttributeError\u001b[0m: 'list' object has no attribute 'rename'"
     ]
    }
   ],
   "source": [
    "df.rename(columns={'nama_kabupaten_kota':'nama_kabupaten/kota'})"
   ]
  },
  {
   "cell_type": "code",
   "execution_count": 18,
   "metadata": {},
   "outputs": [
    {
     "ename": "AttributeError",
     "evalue": "'list' object has no attribute 'sort_values'",
     "output_type": "error",
     "traceback": [
      "\u001b[1;31m---------------------------------------------------------------------------\u001b[0m",
      "\u001b[1;31mAttributeError\u001b[0m                            Traceback (most recent call last)",
      "\u001b[1;32mUntitled-1.ipynb Cell 10\u001b[0m line \u001b[0;36m1\n\u001b[1;32m----> <a href='vscode-notebook-cell:Untitled-1.ipynb?jupyter-notebook#X13sdW50aXRsZWQ%3D?line=0'>1</a>\u001b[0m df\u001b[39m.\u001b[39;49msort_values(\u001b[39m'\u001b[39m\u001b[39mkode_kabupaten_kota\u001b[39m\u001b[39m'\u001b[39m)\n",
      "\u001b[1;31mAttributeError\u001b[0m: 'list' object has no attribute 'sort_values'"
     ]
    }
   ],
   "source": [
    "df.sort_values('kode_kabupaten_kota')"
   ]
  },
  {
   "cell_type": "code",
   "execution_count": 19,
   "metadata": {},
   "outputs": [
    {
     "ename": "AttributeError",
     "evalue": "'list' object has no attribute 'sort_values'",
     "output_type": "error",
     "traceback": [
      "\u001b[1;31m---------------------------------------------------------------------------\u001b[0m",
      "\u001b[1;31mAttributeError\u001b[0m                            Traceback (most recent call last)",
      "\u001b[1;32mUntitled-1.ipynb Cell 12\u001b[0m line \u001b[0;36m1\n\u001b[1;32m----> <a href='vscode-notebook-cell:Untitled-1.ipynb?jupyter-notebook#X16sdW50aXRsZWQ%3D?line=0'>1</a>\u001b[0m df\u001b[39m.\u001b[39;49msort_values(\u001b[39m'\u001b[39m\u001b[39mkode_kabupaten_kota\u001b[39m\u001b[39m'\u001b[39m)\n",
      "\u001b[1;31mAttributeError\u001b[0m: 'list' object has no attribute 'sort_values'"
     ]
    }
   ],
   "source": [
    "df.sort_values('kode_kabupaten_kota')"
   ]
  }
 ],
 "metadata": {
  "kernelspec": {
   "display_name": "Python 3",
   "language": "python",
   "name": "python3"
  },
  "language_info": {
   "codemirror_mode": {
    "name": "ipython",
    "version": 3
   },
   "file_extension": ".py",
   "mimetype": "text/x-python",
   "name": "python",
   "nbconvert_exporter": "python",
   "pygments_lexer": "ipython3",
   "version": "3.10.11"
  }
 },
 "nbformat": 4,
 "nbformat_minor": 2
}
