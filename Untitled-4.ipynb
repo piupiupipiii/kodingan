{
 "cells": [
  {
   "cell_type": "code",
   "execution_count": 1,
   "metadata": {},
   "outputs": [
    {
     "name": "stdout",
     "output_type": "stream",
     "text": [
      "Employee 4 worked for 2.0\n",
      "Employee 4 worked for 2.0\n",
      "Employee 4 worked for 2.0\n",
      "Employee 4 worked for 2.0\n"
     ]
    }
   ],
   "source": [
    "import numpy\n",
    "import matplotlib\n",
    "\n",
    "karyawan = int(input(\"masukkan jumlah karyawan : \"))\n",
    "jam = float(input(\"masukkan jam kerja karyawan : \"))\n",
    "\n",
    "b = int(input(\"masukkan banyak looping\"))\n",
    "\n",
    "for i in range(b):\n",
    "    print('Employee {} worked for {}'. format (karyawan, jam))"
   ]
  }
 ],
 "metadata": {
  "kernelspec": {
   "display_name": "Python 3",
   "language": "python",
   "name": "python3"
  },
  "language_info": {
   "codemirror_mode": {
    "name": "ipython",
    "version": 3
   },
   "file_extension": ".py",
   "mimetype": "text/x-python",
   "name": "python",
   "nbconvert_exporter": "python",
   "pygments_lexer": "ipython3",
   "version": "3.10.11"
  }
 },
 "nbformat": 4,
 "nbformat_minor": 2
}
