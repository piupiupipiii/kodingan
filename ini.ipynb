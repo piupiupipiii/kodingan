{
 "cells": [
  {
   "cell_type": "code",
   "execution_count": 1,
   "metadata": {},
   "outputs": [
    {
     "name": "stdout",
     "output_type": "stream",
     "text": [
      "pipi\n",
      "nama saya: pipi\n"
     ]
    }
   ],
   "source": [
    "nama = input (\"Masukkan nama\")\n",
    "print (nama)\n",
    "print(\"nama saya:\", nama)"
   ]
  },
  {
   "cell_type": "code",
   "execution_count": 2,
   "metadata": {},
   "outputs": [
    {
     "name": "stdout",
     "output_type": "stream",
     "text": [
      "pipi\n",
      "Hello pipi selamat datang diitenas\n"
     ]
    }
   ],
   "source": [
    "nama = input(\"masukkan nama\")\n",
    "kampus = input(\"masukkan kampus\")\n",
    "print(nama)\n",
    "print(\"Hello {} selamat datang di{}\".format(nama, kampus))"
   ]
  },
  {
   "cell_type": "code",
   "execution_count": 3,
   "metadata": {},
   "outputs": [
    {
     "name": "stdout",
     "output_type": "stream",
     "text": [
      "pipi\n",
      "Hello pipi selamat datang diitenas\n",
      "nama saya pipi\n"
     ]
    }
   ],
   "source": [
    "nama = input(\"masukkan nama\")\n",
    "kampus = input(\"masukkan kampus\")\n",
    "print(nama)\n",
    "print(\"Hello {} selamat datang di{}\".format(nama, kampus))\n",
    "print(\"nama saya %s\"%nama)  #s itu berarti string#\n"
   ]
  },
  {
   "cell_type": "code",
   "execution_count": 12,
   "metadata": {},
   "outputs": [
    {
     "name": "stdout",
     "output_type": "stream",
     "text": [
      "nama saya pipi\n",
      "umur saya 19\n",
      "tinggi badan saya 148.500000\n"
     ]
    }
   ],
   "source": [
    "nama = input(\"masukkan nama\")\n",
    "umur = int(input(\"masukkan umur\"))\n",
    "tinggi = float(input(\"masukkan tinggi badan\"))\n",
    "print(\"nama saya %s\"%nama)  #s itu berarti string#\n",
    "print(\"umur saya %s\"%umur)  \n",
    "print(\"tinggi badan saya %f\"%tinggi)  #f itu berarti float#"
   ]
  },
  {
   "cell_type": "code",
   "execution_count": 15,
   "metadata": {},
   "outputs": [
    {
     "name": "stdout",
     "output_type": "stream",
     "text": [
      "merkurius*venus bumi%"
     ]
    }
   ],
   "source": [
    "print('merkurius', end='*')\n",
    "print('venus', end=' ')\n",
    "print('bumi', end='%')\n"
   ]
  },
  {
   "cell_type": "code",
   "execution_count": 18,
   "metadata": {},
   "outputs": [
    {
     "name": "stdout",
     "output_type": "stream",
     "text": [
      "1\n",
      "2\n",
      "1 * 2 = 2\n"
     ]
    }
   ],
   "source": [
    "a = int(input(\"masukkan a\"))\n",
    "print(a)\n",
    "b = int(input(\"masukkan b\"))\n",
    "print(b)\n",
    "print(a, '*', b, '=', a*b)"
   ]
  },
  {
   "cell_type": "code",
   "execution_count": 19,
   "metadata": {},
   "outputs": [
    {
     "name": "stdout",
     "output_type": "stream",
     "text": [
      "1 * 2 = 2\n"
     ]
    }
   ],
   "source": [
    "a = int(input(\"masukkan a\"))\n",
    "b = int(input(\"masukkan b\"))\n",
    "print(a, '*', b, '=', a*b)"
   ]
  },
  {
   "cell_type": "code",
   "execution_count": 20,
   "metadata": {},
   "outputs": [
    {
     "name": "stdout",
     "output_type": "stream",
     "text": [
      "pipi dan ipi\n"
     ]
    }
   ],
   "source": [
    "print('{} dan {}' .format('pipi', 'ipi'))\n"
   ]
  },
  {
   "cell_type": "code",
   "execution_count": 22,
   "metadata": {},
   "outputs": [
    {
     "name": "stdout",
     "output_type": "stream",
     "text": [
      "aliya dan pipi\n"
     ]
    }
   ],
   "source": [
    "print('{1} dan {0}' .format('pipi', 'aliya'))\n"
   ]
  },
  {
   "cell_type": "code",
   "execution_count": 36,
   "metadata": {},
   "outputs": [
    {
     "name": "stdout",
     "output_type": "stream",
     "text": [
      "halo silvy azkia\n"
     ]
    }
   ],
   "source": [
    "print('halo {namadepan} {namabelakang}' .format(namadepan='silvy', namabelakang='azkia'))"
   ]
  },
  {
   "cell_type": "code",
   "execution_count": 30,
   "metadata": {},
   "outputs": [
    {
     "name": "stdout",
     "output_type": "stream",
     "text": [
      "umur saya 19\n"
     ]
    }
   ],
   "source": [
    "print(f\"umur saya {umur}\")"
   ]
  },
  {
   "cell_type": "code",
   "execution_count": 34,
   "metadata": {},
   "outputs": [
    {
     "name": "stdout",
     "output_type": "stream",
     "text": [
      "2 * 6 = 12\n",
      "2 + 6 = 8\n",
      "2 - 6 = -4\n",
      "2 / 6 = 0.3333333333333333\n",
      "2 % 6 = 2\n",
      "2 ** 6 = 64\n"
     ]
    }
   ],
   "source": [
    "a = int(input(\"masukkan a\"))\n",
    "b = int(input(\"masukkan b\"))\n",
    "print(a, '*', b, '=', a*b)\n",
    "print(a, '+', b, '=', a+b)\n",
    "print(a, '-', b, '=', a-b)\n",
    "print(a, '/', b, '=', a/b)\n",
    "print(a, '%', b, '=', a%b)\n",
    "print(a, '**', b, '=', a**b)"
   ]
  },
  {
   "cell_type": "code",
   "execution_count": 37,
   "metadata": {},
   "outputs": [
    {
     "name": "stdout",
     "output_type": "stream",
     "text": [
      "False\n"
     ]
    }
   ],
   "source": [
    "a = 9\n",
    "b = 8\n",
    "c =  a<b\n",
    "print(c)"
   ]
  },
  {
   "cell_type": "code",
   "execution_count": 40,
   "metadata": {},
   "outputs": [
    {
     "name": "stdout",
     "output_type": "stream",
     "text": [
      "2\n",
      "5\n",
      "2 < 5 = True\n",
      "2 > 5 = False\n",
      "2 == 5 = False\n",
      "2 != 5 = True\n",
      "2 >= 5 = False\n",
      "2 <= 5 = True\n"
     ]
    }
   ],
   "source": [
    "a = int(input(\"masukkan a\"))\n",
    "print(a)\n",
    "b = int(input(\"masukkan b\"))\n",
    "print(b)\n",
    "print(a, '<', b, '=', a<b)\n",
    "print(a, '>', b, '=', a>b)\n",
    "print(a, '==', b, '=', a==b)\n",
    "print(a, '!=', b, '=', a!=b)\n",
    "print(a, '>=', b, '=', a>=b)\n",
    "print(a, '<=', b, '=', a<=b)"
   ]
  },
  {
   "cell_type": "code",
   "execution_count": 41,
   "metadata": {},
   "outputs": [
    {
     "name": "stdout",
     "output_type": "stream",
     "text": [
      "10\n",
      "10\n",
      "10 != 10 = False\n"
     ]
    }
   ],
   "source": [
    "a = int(input(\"masukkan a\"))\n",
    "print(a)\n",
    "b = int(input(\"masukkan b\"))\n",
    "print(b)\n",
    "print(a, '!=', b, '=', a!=b)\n",
    "#!= artinya jika tidak sama dengan, jika nilainya bernilai sama maka hasilnya false karena nilainya sama"
   ]
  },
  {
   "cell_type": "code",
   "execution_count": 42,
   "metadata": {},
   "outputs": [
    {
     "name": "stdout",
     "output_type": "stream",
     "text": [
      "jomblo\n"
     ]
    }
   ],
   "source": [
    "umur = int(input(\"masukan umur\"))\n",
    "if umur >= 25:\n",
    "    print(\"menikah\")\n",
    "else :\n",
    "    print(\"jomblo\")"
   ]
  },
  {
   "cell_type": "code",
   "execution_count": null,
   "metadata": {},
   "outputs": [],
   "source": [
    "#masukkan nilai a=4\n",
    "#masukkan nilai b=5\n",
    "# a&b = 4 -------- karena di dalam biner 0100 and 0101 maka hasilnya 0100\n",
    "# a|b = 5 -------- karena di dalam biner 0100 or 0101 maka hasilnya 0101"
   ]
  }
 ],
 "metadata": {
  "kernelspec": {
   "display_name": "Python 3",
   "language": "python",
   "name": "python3"
  },
  "language_info": {
   "codemirror_mode": {
    "name": "ipython",
    "version": 3
   },
   "file_extension": ".py",
   "mimetype": "text/x-python",
   "name": "python",
   "nbconvert_exporter": "python",
   "pygments_lexer": "ipython3",
   "version": "3.10.11"
  },
  "orig_nbformat": 4
 },
 "nbformat": 4,
 "nbformat_minor": 2
}
