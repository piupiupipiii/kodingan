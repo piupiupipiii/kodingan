{
 "cells": [
  {
   "cell_type": "code",
   "execution_count": null,
   "metadata": {},
   "outputs": [],
   "source": [
    "buatlah lopp for yang akan mengiterasi melalui DataFrame untuk mengecek usia tiap karyawan . \n",
    "jika usia diatas 30 tahun, tambahkan bonus sebanyak 5%"
   ]
  },
  {
   "cell_type": "markdown",
   "metadata": {},
   "source": []
  },
  {
   "cell_type": "code",
   "execution_count": null,
   "metadata": {},
   "outputs": [],
   "source": [
    "setelaha pemberian bonus, tampilkan DataFrame yang sudah diperbaharui, lalu hitung jumlah total gaji sebelum dan sesudah bonus"
   ]
  },
  {
   "cell_type": "code",
   "execution_count": null,
   "metadata": {},
   "outputs": [
    {
     "name": "stdout",
     "output_type": "stream",
     "text": [
      "   nama  Umur  Gaji Kategori_Umur  Gaji_Bersih\n",
      "0  andi    25  5000        Dewasa       4500.0\n",
      "1  budi    30  6000        Dewasa       5400.0\n",
      "2  cici    22  4500          Muda       4050.0\n"
     ]
    }
   ],
   "source": [
    "import pandas as pd\n",
    "data = {'nama': ['andi', 'budi', 'cici'],\n",
    "'Umur' : [25, 30, 22], \n",
    "'Gaji' : [5000,6000,4500]}\n",
    "\n",
    "df = pd.DataFrame(data)\n",
    "def kategori_umur(umur):\n",
    "    if umur <25 :\n",
    "        return 'Muda'\n",
    "    elif 25 <= umur <35:\n",
    "        return 'Dewasa'\n",
    "    else :\n",
    "        return 'Lansia'\n",
    "\n",
    "df['Kategori_Umur'] = df['Umur'].apply(kategori_umur)\n",
    "#kolom baru di dataframe variabel df\n",
    "df['Gaji_Bersih'] = df['Gaji'].apply(lambda x:0.9 * x)\n",
    "\n",
    "bonus_percentage = 0.05 \n",
    "df['Gaji'] = df['Gaji'] + (df['Gaji'] * bonus_percentage)\n",
    "\n",
    "print(df)\n",
    "\n",
    "gaji_sblm_bonus = df['Gaji'].sum()\n",
    "print(\"gaji sebelum bonus\", gaji_sblm_bonus)\n",
    "\n",
    "\n"
   ]
  },
  {
   "cell_type": "code",
   "execution_count": null,
   "metadata": {},
   "outputs": [],
   "source": [
    "buat ringkasan hasil, termasuk daftar karyawan yang menerima bonus dan yang tidak menerima bonus "
   ]
  },
  {
   "cell_type": "code",
   "execution_count": 14,
   "metadata": {},
   "outputs": [
    {
     "name": "stdout",
     "output_type": "stream",
     "text": [
      "   Nama  Umur  Gaji Kategori_Umur  Gaji_Bersih\n",
      "0  Andi    25  5500        Dewasa       4500.0\n",
      "1  Budi    30  6600        Dewasa       5400.0\n",
      "2  Cici    22  4950          Muda       4050.0\n"
     ]
    }
   ],
   "source": [
    "import pandas as pd\n",
    "data = {'Nama': ['Andi', 'Budi', 'Cici'],\n",
    "        'Umur' : [25, 30, 22],\n",
    "        'Gaji' : [5000, 6000, 4500]       \n",
    "}\n",
    "\n",
    "df = pd.DataFrame(data)\n",
    "\n",
    "def kategori_umur(umur):\n",
    "    if umur < 25:\n",
    "        return 'Muda'\n",
    "    elif 25 <= umur < 35:\n",
    "        return 'Dewasa'\n",
    "    else:\n",
    "        return 'Lansia'\n",
    "    \n",
    "df['Kategori_Umur'] = df['Umur'].apply(kategori_umur)\n",
    "df['Gaji_Bersih'] = df['Gaji'].apply(lambda x : 0.9 * x)\n",
    "\n",
    "bonus_percentage = 0.1\n",
    "for index, row in df.iterrows():\n",
    "    df.at[index, 'Gaji'] = row['Gaji'] + (row['Gaji']) * bonus_percentage\n",
    "\n",
    "\n",
    "print(df)"
   ]
  },
  {
   "cell_type": "code",
   "execution_count": null,
   "metadata": {},
   "outputs": [],
   "source": [
    "import pandas as pd\n",
    "data = {'nama': ['andi', 'budi', 'cici'],\n",
    "'Umur' : [25, 30, 22], \n",
    "'Gaji' : [5000,6000,4500]}\n",
    "\n",
    "df = pd.DataFrame(data)\n",
    "def kategori_umur(umur):\n",
    "    if umur <25 :\n",
    "        return 'Muda'\n",
    "    elif 25 <= umur <35:\n",
    "        return 'Dewasa'\n",
    "    else :\n",
    "        return 'Lansia'\n",
    "\n",
    "df['Kategori_Umur'] = df['Umur'].apply(kategori_umur)\n",
    "#kolom baru di dataframe variabel df\n",
    "df['Gaji_Bersih'] = df['Gaji'].apply(lambda x:0.9 * x)\n",
    "\n",
    "for index, row in df.iterrows():\n",
    "    if row['Umur'] > 30:\n",
    "        df.at[index, 'Gaji_Total'] = row['Gaji'] * 1.05\n",
    "\n",
    "print(df)\n",
    "\n",
    "gaji_sblm_bonus = df['Gaji'].sum()\n",
    "print(\"gaji sebelum bonus\", gaji_sblm_bonus)\n",
    "\n",
    "\n"
   ]
  }
 ],
 "metadata": {
  "kernelspec": {
   "display_name": "Python 3",
   "language": "python",
   "name": "python3"
  },
  "language_info": {
   "codemirror_mode": {
    "name": "ipython",
    "version": 3
   },
   "file_extension": ".py",
   "mimetype": "text/x-python",
   "name": "python",
   "nbconvert_exporter": "python",
   "pygments_lexer": "ipython3",
   "version": "3.10.11"
  }
 },
 "nbformat": 4,
 "nbformat_minor": 2
}
