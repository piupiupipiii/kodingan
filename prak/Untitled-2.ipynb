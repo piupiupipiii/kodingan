{
 "cells": [
  {
   "cell_type": "code",
   "execution_count": null,
   "metadata": {},
   "outputs": [],
   "source": [
    "# Python program to demonstrate \n",
    "# while loop with True \n",
    "\n",
    "N = 10\n",
    "Sum = 0\n",
    "\n",
    "# This loop will run forever \n",
    "while True: \n",
    "\tSum += N \n",
    "\tN -= 1\n",
    "\t\n",
    "\t# the below condition will tell \n",
    "\t# the loop to stop \n",
    "\tif N == 0: \n",
    "\t\tbreak\n",
    "\t\t\n",
    "print(f\"Sum of First 10 Numbers is {Sum}\")\n"
   ]
  },
  {
   "cell_type": "code",
   "execution_count": 1,
   "metadata": {},
   "outputs": [
    {
     "name": "stdout",
     "output_type": "stream",
     "text": [
      "Input tidak valid. Masukkan angka yang benar.\n",
      "Total telur yang dihasilkan setiap hari: 10\n"
     ]
    }
   ],
   "source": [
    "\n",
    "total_telur = 0\n",
    "\n",
    "while True:\n",
    "\n",
    "    input_telur = input(\"Masukkan jumlah telur yang dihasilkan oleh ayam (masukkan -1 untuk mengakhiri): \")\n",
    "\n",
    "\n",
    "    try:\n",
    "        jumlah_telur = int(input_telur)\n",
    "    except ValueError:\n",
    "        print(\"Input tidak valid. Masukkan angka yang benar.\")\n",
    "        continue\n",
    "\n",
    "\n",
    "    if jumlah_telur == -1:\n",
    "        break\n",
    "\n",
    "\n",
    "    if jumlah_telur < 0:\n",
    "        print(\"Input tidak valid. Jumlah telur tidak boleh negatif.\")\n",
    "        continue\n",
    "\n",
    "    total_telur += jumlah_telur\n",
    "\n",
    "print(f\"Total telur yang dihasilkan setiap hari: {total_telur}\")"
   ]
  }
 ],
 "metadata": {
  "kernelspec": {
   "display_name": "Python 3",
   "language": "python",
   "name": "python3"
  },
  "language_info": {
   "codemirror_mode": {
    "name": "ipython",
    "version": 3
   },
   "file_extension": ".py",
   "mimetype": "text/x-python",
   "name": "python",
   "nbconvert_exporter": "python",
   "pygments_lexer": "ipython3",
   "version": "3.10.11"
  }
 },
 "nbformat": 4,
 "nbformat_minor": 2
}
