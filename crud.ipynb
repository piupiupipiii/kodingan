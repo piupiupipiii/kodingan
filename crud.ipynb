{
 "cells": [
  {
   "cell_type": "code",
   "execution_count": 5,
   "metadata": {},
   "outputs": [
    {
     "ename": "AttributeError",
     "evalue": "module 'mysql.connector.connection' has no attribute 'is_connected'",
     "output_type": "error",
     "traceback": [
      "\u001b[1;31m---------------------------------------------------------------------------\u001b[0m",
      "\u001b[1;31mNameError\u001b[0m                                 Traceback (most recent call last)",
      "\u001b[1;32mUntitled-3.ipynb Cell 1\u001b[0m line \u001b[0;36m1\n\u001b[0;32m     <a href='vscode-notebook-cell:Untitled-3.ipynb?jupyter-notebook#W0sdW50aXRsZWQ%3D?line=10'>11</a>\u001b[0m \u001b[39mtry\u001b[39;00m :\n\u001b[1;32m---> <a href='vscode-notebook-cell:Untitled-3.ipynb?jupyter-notebook#W0sdW50aXRsZWQ%3D?line=11'>12</a>\u001b[0m     connection \u001b[39m=\u001b[39m mysql\u001b[39m.\u001b[39mconnector\u001b[39m.\u001b[39mconnect(\u001b[39m*\u001b[39m\u001b[39m*\u001b[39mdb_config)\n\u001b[0;32m     <a href='vscode-notebook-cell:Untitled-3.ipynb?jupyter-notebook#W0sdW50aXRsZWQ%3D?line=12'>13</a>\u001b[0m     \u001b[39mif\u001b[39;00m connection\u001b[39m.\u001b[39mis_connected():\n",
      "\u001b[1;31mNameError\u001b[0m: name 'mysql' is not defined",
      "\nDuring handling of the above exception, another exception occurred:\n",
      "\u001b[1;31mNameError\u001b[0m                                 Traceback (most recent call last)",
      "\u001b[1;32mUntitled-3.ipynb Cell 1\u001b[0m line \u001b[0;36m1\n\u001b[0;32m     <a href='vscode-notebook-cell:Untitled-3.ipynb?jupyter-notebook#W0sdW50aXRsZWQ%3D?line=13'>14</a>\u001b[0m         \u001b[39mprint\u001b[39m(\u001b[39m'\u001b[39m\u001b[39mConnected to MySQL database\u001b[39m\u001b[39m'\u001b[39m)\n\u001b[1;32m---> <a href='vscode-notebook-cell:Untitled-3.ipynb?jupyter-notebook#W0sdW50aXRsZWQ%3D?line=15'>16</a>\u001b[0m \u001b[39mexcept\u001b[39;00m mysql\u001b[39m.\u001b[39mconnector\u001b[39m.\u001b[39mError \u001b[39mas\u001b[39;00m e:\n\u001b[0;32m     <a href='vscode-notebook-cell:Untitled-3.ipynb?jupyter-notebook#W0sdW50aXRsZWQ%3D?line=16'>17</a>\u001b[0m     \u001b[39mprint\u001b[39m(\u001b[39mf\u001b[39m\u001b[39m\"\u001b[39m\u001b[39mError connecting to MySQL): \u001b[39m\u001b[39m{\u001b[39;00me\u001b[39m}\u001b[39;00m\u001b[39m\"\u001b[39m)\n",
      "\u001b[1;31mNameError\u001b[0m: name 'mysql' is not defined",
      "\nDuring handling of the above exception, another exception occurred:\n",
      "\u001b[1;31mAttributeError\u001b[0m                            Traceback (most recent call last)",
      "\u001b[1;32mUntitled-3.ipynb Cell 1\u001b[0m line \u001b[0;36m2\n\u001b[0;32m     <a href='vscode-notebook-cell:Untitled-3.ipynb?jupyter-notebook#W0sdW50aXRsZWQ%3D?line=16'>17</a>\u001b[0m     \u001b[39mprint\u001b[39m(\u001b[39mf\u001b[39m\u001b[39m\"\u001b[39m\u001b[39mError connecting to MySQL): \u001b[39m\u001b[39m{\u001b[39;00me\u001b[39m}\u001b[39;00m\u001b[39m\"\u001b[39m)\n\u001b[0;32m     <a href='vscode-notebook-cell:Untitled-3.ipynb?jupyter-notebook#W0sdW50aXRsZWQ%3D?line=18'>19</a>\u001b[0m \u001b[39mfinally\u001b[39;00m:\n\u001b[1;32m---> <a href='vscode-notebook-cell:Untitled-3.ipynb?jupyter-notebook#W0sdW50aXRsZWQ%3D?line=19'>20</a>\u001b[0m     \u001b[39mif\u001b[39;00m \u001b[39m'\u001b[39m\u001b[39mconnection\u001b[39m\u001b[39m'\u001b[39m \u001b[39min\u001b[39;00m \u001b[39mlocals\u001b[39m() \u001b[39mand\u001b[39;00m connection\u001b[39m.\u001b[39;49mis_connected():\n\u001b[0;32m     <a href='vscode-notebook-cell:Untitled-3.ipynb?jupyter-notebook#W0sdW50aXRsZWQ%3D?line=20'>21</a>\u001b[0m         connection\u001b[39m.\u001b[39mclose()\n\u001b[0;32m     <a href='vscode-notebook-cell:Untitled-3.ipynb?jupyter-notebook#W0sdW50aXRsZWQ%3D?line=21'>22</a>\u001b[0m         \u001b[39mprint\u001b[39m(\u001b[39m'\u001b[39m\u001b[39mConnection closed\u001b[39m\u001b[39m'\u001b[39m)\n",
      "\u001b[1;31mAttributeError\u001b[0m: module 'mysql.connector.connection' has no attribute 'is_connected'"
     ]
    }
   ],
   "source": [
    "from mysql.connector import (connection)\n",
    "\n",
    "db_config = {\n",
    "    'host' : 'localhost',\n",
    "    'user' : 'root',\n",
    "    'password' : '',\n",
    "    'database': 'garmen'\n",
    "\n",
    "}\n",
    "\n",
    "try :\n",
    "    connection = mysql.connector.connect(**db_config)\n",
    "    if connection.is_connected():\n",
    "        print('Connected to MySQL database')\n",
    "\n",
    "except mysql.connector.Error as e:\n",
    "    print(f\"Error connecting to MySQL): {e}\")\n",
    "\n",
    "finally:\n",
    "    if 'connection' in locals() and connection.is_connected():\n",
    "        connection.close()\n",
    "        print('Connection closed')"
   ]
  },
  {
   "cell_type": "code",
   "execution_count": 10,
   "metadata": {},
   "outputs": [
    {
     "name": "stdout",
     "output_type": "stream",
     "text": [
      "Connected to MySQl database\n",
      "Connection closed\n"
     ]
    }
   ],
   "source": [
    "import mysql.connector\n",
    "\n",
    "db_config = {\n",
    "    'host': 'localhost',\n",
    "    'user': 'root',\n",
    "    'password': '',\n",
    "    'database': 'hotel'\n",
    "}\n",
    "\n",
    "try:\n",
    "    connection= mysql.connector.connect(**db_config)\n",
    "    if connection.is_connected():\n",
    "        print(\"Connected to MySQl database\")\n",
    "\n",
    "except mysql.connector.Error as e:\n",
    "    print(f\"Error connecting to MySQL: {e}\")\n",
    "\n",
    "#finally:\n",
    "#    if 'connection' in locals() and connection.is_connected():\n",
    " #       connection.close()\n",
    "#        print('Connection closed')"
   ]
  },
  {
   "cell_type": "code",
   "execution_count": 73,
   "metadata": {},
   "outputs": [
    {
     "name": "stdout",
     "output_type": "stream",
     "text": [
      "Data inserted successfully with ID: 0\n"
     ]
    }
   ],
   "source": [
    "import mysql.connector\n",
    "\n",
    "cnx = mysql.connector.connect(user='root', password='', host='127.0.0.1', port='3306', database='hotel')\n",
    "cursor = cnx.cursor()\n",
    "\n",
    "insert_query = \"INSERT INTO rooms (id_rooms, type, lantai, harga) VALUES (%s, %s, %s, %s)\"\n",
    "values = ('303', 'superior', '3', '550000')\n",
    "\n",
    "cursor.execute(insert_query, values)\n",
    "cnx.commit()\n",
    "print(f\"Data inserted successfully with ID: {cursor.lastrowid}\")"
   ]
  },
  {
   "cell_type": "code",
   "execution_count": 1,
   "metadata": {},
   "outputs": [
    {
     "ename": "NameError",
     "evalue": "name 'mysql' is not defined",
     "output_type": "error",
     "traceback": [
      "\u001b[1;31m---------------------------------------------------------------------------\u001b[0m",
      "\u001b[1;31mNameError\u001b[0m                                 Traceback (most recent call last)",
      "\u001b[1;32mUntitled-3.ipynb Cell 4\u001b[0m line \u001b[0;36m1\n\u001b[0;32m     <a href='vscode-notebook-cell:Untitled-3.ipynb?jupyter-notebook#W3sdW50aXRsZWQ%3D?line=10'>11</a>\u001b[0m \u001b[39mtry\u001b[39;00m :\n\u001b[1;32m---> <a href='vscode-notebook-cell:Untitled-3.ipynb?jupyter-notebook#W3sdW50aXRsZWQ%3D?line=11'>12</a>\u001b[0m     connection \u001b[39m=\u001b[39m mysql\u001b[39m.\u001b[39mconnector\u001b[39m.\u001b[39mconnect(\u001b[39m*\u001b[39m\u001b[39m*\u001b[39mdb_config)\n\u001b[0;32m     <a href='vscode-notebook-cell:Untitled-3.ipynb?jupyter-notebook#W3sdW50aXRsZWQ%3D?line=12'>13</a>\u001b[0m     \u001b[39mif\u001b[39;00m connection\u001b[39m.\u001b[39mis_connected():\n",
      "\u001b[1;31mNameError\u001b[0m: name 'mysql' is not defined",
      "\nDuring handling of the above exception, another exception occurred:\n",
      "\u001b[1;31mNameError\u001b[0m                                 Traceback (most recent call last)",
      "\u001b[1;32mUntitled-3.ipynb Cell 4\u001b[0m line \u001b[0;36m1\n\u001b[0;32m     <a href='vscode-notebook-cell:Untitled-3.ipynb?jupyter-notebook#W3sdW50aXRsZWQ%3D?line=12'>13</a>\u001b[0m     \u001b[39mif\u001b[39;00m connection\u001b[39m.\u001b[39mis_connected():\n\u001b[0;32m     <a href='vscode-notebook-cell:Untitled-3.ipynb?jupyter-notebook#W3sdW50aXRsZWQ%3D?line=13'>14</a>\u001b[0m         \u001b[39mprint\u001b[39m(\u001b[39m'\u001b[39m\u001b[39mConnected to MySQL database\u001b[39m\u001b[39m'\u001b[39m)\n\u001b[1;32m---> <a href='vscode-notebook-cell:Untitled-3.ipynb?jupyter-notebook#W3sdW50aXRsZWQ%3D?line=15'>16</a>\u001b[0m \u001b[39mexcept\u001b[39;00m mysql\u001b[39m.\u001b[39mconnector\u001b[39m.\u001b[39mError \u001b[39mas\u001b[39;00m e:\n\u001b[0;32m     <a href='vscode-notebook-cell:Untitled-3.ipynb?jupyter-notebook#W3sdW50aXRsZWQ%3D?line=16'>17</a>\u001b[0m     \u001b[39mprint\u001b[39m(\u001b[39mf\u001b[39m\u001b[39m\"\u001b[39m\u001b[39mError connecting to MySQL): \u001b[39m\u001b[39m{\u001b[39;00me\u001b[39m}\u001b[39;00m\u001b[39m\"\u001b[39m)\n\u001b[0;32m     <a href='vscode-notebook-cell:Untitled-3.ipynb?jupyter-notebook#W3sdW50aXRsZWQ%3D?line=18'>19</a>\u001b[0m \u001b[39m#finally:\u001b[39;00m\n\u001b[0;32m     <a href='vscode-notebook-cell:Untitled-3.ipynb?jupyter-notebook#W3sdW50aXRsZWQ%3D?line=19'>20</a>\u001b[0m \u001b[39m#    if 'connection' in locals() and connection.is_connected():\u001b[39;00m\n\u001b[0;32m     <a href='vscode-notebook-cell:Untitled-3.ipynb?jupyter-notebook#W3sdW50aXRsZWQ%3D?line=20'>21</a>\u001b[0m \u001b[39m#        connection.close()\u001b[39;00m\n\u001b[0;32m     <a href='vscode-notebook-cell:Untitled-3.ipynb?jupyter-notebook#W3sdW50aXRsZWQ%3D?line=21'>22</a>\u001b[0m \u001b[39m#        print('Connection closed')\u001b[39;00m\n",
      "\u001b[1;31mNameError\u001b[0m: name 'mysql' is not defined"
     ]
    }
   ],
   "source": [
    "from mysql.connector import (connection)\n",
    "\n",
    "db_config = {\n",
    "    'host' : 'localhost',\n",
    "    'user' : 'root',\n",
    "    'password' : '',\n",
    "    'database': 'hotel'\n",
    "\n",
    "}\n",
    "\n",
    "try :\n",
    "    connection = mysql.connector.connect(**db_config)\n",
    "    if connection.is_connected():\n",
    "        print('Connected to MySQL database')\n",
    "\n",
    "except mysql.connector.Error as e:\n",
    "    print(f\"Error connecting to MySQL): {e}\")\n",
    "\n",
    "#finally:\n",
    "#    if 'connection' in locals() and connection.is_connected():\n",
    "#        connection.close()\n",
    "#        print('Connection closed')\n",
    "\n",
    "\n",
    "def select(select_query):\n",
    "    select_query = \"SELECT * FROM rooms\"\n",
    "    return values\n",
    "\n",
    "\n",
    "def insert(insert_query, values):\n",
    "    insert_query = \"INSERT INTO rooms (id_rooms, type, lantai, harga) VALUES (%s, %s, %s, %s)\"\n",
    "    values = ('303', 'superior', '3', '550000')\n",
    "    return values\n",
    "\n",
    "def update(update_query, values):\n",
    "    update_query = \"UPDATE rooms SET id_rooms=%s, type=%s, lantai=%s, harga=%s WHERE id_rooms= '401' \"\n",
    "    new_values = ('405', 'suite', '5', '900000')\n",
    "    return values\n",
    "\n",
    "def delete(delete_query, values):\n",
    "    delete_query = \"DELETE FROM rooms WHERE id_rooms=%s\"\n",
    "    values= (302,)\n",
    "    return values\n",
    "\n",
    "print (\"Pilih Menu : \\n\"\\\n",
    "       \"1. select\\n\"\n",
    "       \"2. insert\\n\"\n",
    "       \"3. update\\n\"\n",
    "       \"4. delete\\n\")\n",
    "\n",
    "menu = int(input(\"Masukkan pilihan menu : \"))\n",
    "\n",
    "if menu == 1:\n",
    "    print "
   ]
  },
  {
   "cell_type": "code",
   "execution_count": 62,
   "metadata": {},
   "outputs": [
    {
     "name": "stdout",
     "output_type": "stream",
     "text": [
      "(301, 'superior', 3, 550000)\n",
      "(405, 'suite', 5, 900000)\n",
      "(701, 'twin rooms', 7, 750000)\n",
      "(901, 'suite', 9, 1000000)\n"
     ]
    }
   ],
   "source": [
    "import mysql.connector\n",
    "\n",
    "# Establish a connection to MySQL\n",
    "cnx = mysql.connector.connect(user='root', password='', host='127.0.0.1', port='3306', database='hotel')\n",
    "cursor = cnx.cursor()\n",
    "\n",
    "select_query = \"SELECT * FROM rooms\"\n",
    "cursor.execute(select_query)\n",
    "\n",
    "# Fetch all the rows\n",
    "rows = cursor.fetchall()\n",
    "\n",
    "# Print the rows\n",
    "for row in rows:\n",
    "    print(row)\n",
    "\n",
    "# Close the cursor and connection\n",
    "cursor.close()\n",
    "cnx.close()\n"
   ]
  },
  {
   "cell_type": "code",
   "execution_count": 55,
   "metadata": {},
   "outputs": [
    {
     "name": "stdout",
     "output_type": "stream",
     "text": [
      "Data Updated successfully for ID: ('405', 'suite', '5', '900000')\n"
     ]
    }
   ],
   "source": [
    "import mysql.connector\n",
    "\n",
    "cnx = mysql.connector.connect(user='root', password='', host='127.0.0.1', port='3306', database='hotel')\n",
    "cursor = cnx.cursor()\n",
    "\n",
    "update_query = \"UPDATE rooms SET id_rooms=%s, type=%s, lantai=%s, harga=%s WHERE id_rooms= '401' \"\n",
    "new_values = ('405', 'suite', '5', '900000')\n",
    "\n",
    "cursor.execute(update_query, new_values)\n",
    "\n",
    "cnx.commit()\n",
    "\n",
    "print(f\"Data Updated successfully for ID: {new_values}\")\n",
    "\n",
    "cursor.close()\n",
    "cnx.close()\n"
   ]
  },
  {
   "cell_type": "code",
   "execution_count": 64,
   "metadata": {},
   "outputs": [
    {
     "name": "stdout",
     "output_type": "stream",
     "text": [
      "data berhasil dihapus pada ID : (302,)\n"
     ]
    }
   ],
   "source": [
    "import mysql.connector\n",
    "\n",
    "cnx = mysql.connector.connect(user='root', password='', host='127.0.0.1', port='3306', database='hotel')\n",
    "cursor = cnx.cursor()\n",
    "delete_query = \"DELETE FROM rooms WHERE id_rooms=%s\"\n",
    "values= (302,)\n",
    "\n",
    "cursor.execute(delete_query, values)\n",
    "cnx.commit()\n",
    "\n",
    "print(f\"data berhasil dihapus pada ID : {values}\")"
   ]
  },
  {
   "cell_type": "code",
   "execution_count": null,
   "metadata": {},
   "outputs": [],
   "source": [
    "def update_data"
   ]
  }
 ],
 "metadata": {
  "kernelspec": {
   "display_name": "Python 3",
   "language": "python",
   "name": "python3"
  },
  "language_info": {
   "codemirror_mode": {
    "name": "ipython",
    "version": 3
   },
   "file_extension": ".py",
   "mimetype": "text/x-python",
   "name": "python",
   "nbconvert_exporter": "python",
   "pygments_lexer": "ipython3",
   "version": "3.10.11"
  }
 },
 "nbformat": 4,
 "nbformat_minor": 2
}
