{
 "cells": [
  {
   "cell_type": "code",
   "execution_count": 2,
   "metadata": {},
   "outputs": [
    {
     "name": "stdout",
     "output_type": "stream",
     "text": [
      "kata bukan kalimat palindrome\n"
     ]
    }
   ],
   "source": [
    "\n",
    "# Input Kata\n",
    "kata = input(\"masukkan kata/kalimat : \")\n",
    "temp = \"\"\n",
    "\n",
    "# Balik Kata\n",
    "for i in range(len(kata)-1, -1, -1):\n",
    "    temp += kata[i]\n",
    "\n",
    "# Cek Palindrom\n",
    "if(kata == temp):\n",
    "    print(\"{} adalah kalimat palindrome!\".format(kata))\n",
    "else:\n",
    "    print(\"{} bukan kalimat palindrome\".format(kata))"
   ]
  },
  {
   "cell_type": "code",
   "execution_count": 3,
   "metadata": {},
   "outputs": [
    {
     "name": "stdout",
     "output_type": "stream",
     "text": [
      "2\n",
      "4\n",
      "6\n",
      "8\n",
      "10\n"
     ]
    }
   ],
   "source": [
    "angka = int(input('masukkan angka batas atas: '))\n",
    "pilihan = int(input(\"Masukan Pilihan : 1.Ganjil | 2.Genap : \"))\n",
    "\n",
    "if pilihan == 1:\n",
    "    for x in range (10):\n",
    "        if x % 2 == 1:\n",
    "            print(x)\n",
    "else:\n",
    "    for x in range (2,12):\n",
    "        if x % 2 == 0:\n",
    "            print(x)"
   ]
  },
  {
   "cell_type": "code",
   "execution_count": 4,
   "metadata": {},
   "outputs": [
    {
     "name": "stdout",
     "output_type": "stream",
     "text": [
      "pilih operasi :  \n",
      "1. penjumlahan\n",
      "2. pengurangan\n",
      "3. perkalian\n",
      "4. pembagian\n",
      "\n",
      "hasil pengurangan  : 2\n"
     ]
    }
   ],
   "source": [
    "# Fungsi untuk menjumlahkan dua angka\n",
    "def penjumlahan(angka1, angka2):\n",
    "\treturn angka1 + angka2\n",
    "\n",
    "# Fungsi untuk mengurangi dua angka\n",
    "def pengurangan(angka1, angka2):\n",
    "\treturn angka1 - angka2\n",
    "\n",
    "# Fungsi untuk mengkalikan dua angka\n",
    "def perkalian(angka1, angka2):\n",
    "\treturn angka1 * angka2\n",
    "\n",
    "# Fungsi untuk membagi dua angka\n",
    "def pembagian(angka1, angka2):\n",
    "\treturn angka1 / angka2\n",
    "\n",
    "print(\"pilih operasi :  \\n\" \\\n",
    "\t\t\"1. penjumlahan\\n\" \\\n",
    "\t\t\"2. pengurangan\\n\" \\\n",
    "\t\t\"3. perkalian\\n\" \\\n",
    "\t\t\"4. pembagian\\n\")\n",
    "\n",
    "\n",
    "# Take input from the user\n",
    "pilih = int(input(\"masukkan nomor operasi (1, 2, 3, 4) : \"))\n",
    "\n",
    "angka1 = int(input(\"masukkan angka pertama : \"))\n",
    "angka2 = int(input(\"masukkan angka kedua : \"))\n",
    "\n",
    "if pilih == 1:\n",
    "\tprint(\"hasil pengjumlahan \", \":\",\n",
    "\t\t\t\t\tpenjumlahan(angka1, angka2))\n",
    "\n",
    "elif pilih == 2:\n",
    "\tprint(\"hasil pengurangan \", \":\",\n",
    "\t\t\t\t\tpengurangan(angka1, angka2))\n",
    "\n",
    "elif pilih == 3:\n",
    "\tprint(\"hasil perkalian \", \":\",\n",
    "\t\t\t\t\tperkalian(angka1, angka2))\n",
    "\n",
    "elif pilih == 4:\n",
    "\tprint(\"hasil pembagian \", \":\",\n",
    "\t\t\t\t\tpembagian(angka1, angka2))\n",
    "else:\n",
    "\tprint(\"hasil tidak valid\")\n"
   ]
  }
 ],
 "metadata": {
  "kernelspec": {
   "display_name": "Python 3",
   "language": "python",
   "name": "python3"
  },
  "language_info": {
   "codemirror_mode": {
    "name": "ipython",
    "version": 3
   },
   "file_extension": ".py",
   "mimetype": "text/x-python",
   "name": "python",
   "nbconvert_exporter": "python",
   "pygments_lexer": "ipython3",
   "version": "3.10.11"
  }
 },
 "nbformat": 4,
 "nbformat_minor": 2
}
